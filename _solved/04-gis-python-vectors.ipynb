{
 "cells": [
  {
   "cell_type": "code",
   "execution_count": 136,
   "metadata": {
    "collapsed": true,
    "run_control": {
     "frozen": false,
     "read_only": false
    }
   },
   "outputs": [],
   "source": [
    "import fiona\n",
    "import geopandas as gpd\n",
    "from osgeo import gdal\n",
    "from osgeo import ogr\n",
    "\n",
    "import pandas as pd\n",
    "import matplotlib.pyplot as plt\n",
    "%matplotlib inline"
   ]
  },
  {
   "cell_type": "markdown",
   "metadata": {
    "run_control": {
     "frozen": false,
     "read_only": false
    }
   },
   "source": [
    "## Fiona: reading vector data"
   ]
  },
  {
   "cell_type": "markdown",
   "metadata": {},
   "source": [
    "<p>Fiona is a minimalist python package for reading (and writing) vector\n",
    "data in python.  Fiona provides python objects (e.g. a dictionary for\n",
    "each record) to geospatial data in various formats.</p>"
   ]
  },
  {
   "cell_type": "markdown",
   "metadata": {},
   "source": [
    "Reading in vector files with Fiona is - *good practice* - done using the `with` environment:"
   ]
  },
  {
   "cell_type": "code",
   "execution_count": 55,
   "metadata": {
    "run_control": {
     "frozen": false,
     "read_only": false
    }
   },
   "outputs": [
    {
     "name": "stdout",
     "output_type": "stream",
     "text": [
      "Bekken:  Boven-Scheldebekken\n",
      "Vectortype:  Polygon\n",
      "(98710.32800000161, 162573.7030000016)\n"
     ]
    }
   ],
   "source": [
    "with fiona.open('../data/deelbekkens/Deelbekken.shp') as deelbekkens:\n",
    "    feature = next(iter(deelbekkens)) # Just one checking the first\n",
    "    print(\"Bekken: \", feature['properties']['BEKNAAM'])\n",
    "    print(\"Vectortype: \", feature['geometry']['type'])\n",
    "    print(feature['geometry']['coordinates'][0][0])"
   ]
  },
  {
   "cell_type": "markdown",
   "metadata": {},
   "source": [
    "This is actually equivalent to:"
   ]
  },
  {
   "cell_type": "code",
   "execution_count": 3,
   "metadata": {
    "run_control": {
     "frozen": false,
     "read_only": false
    }
   },
   "outputs": [
    {
     "name": "stdout",
     "output_type": "stream",
     "text": [
      "Bekken:  Boven-Scheldebekken\n",
      "Stroomgebied:  Schelde\n",
      "Vectortype:  Polygon\n"
     ]
    }
   ],
   "source": [
    "deelbekkens = fiona.open('../data/deelbekkens/Deelbekken.shp') \n",
    "feature = next(iter(deelbekkens))\n",
    "print(\"Bekken: \", feature['properties']['BEKNAAM'])\n",
    "print(\"Stroomgebied: \", feature['properties']['STRMGEB'])\n",
    "print(\"Vectortype: \", feature['geometry']['type'])\n",
    "deelbekkens.close()"
   ]
  },
  {
   "cell_type": "markdown",
   "metadata": {},
   "source": [
    "But people tend to forget to use the `close`(!)"
   ]
  },
  {
   "cell_type": "markdown",
   "metadata": {},
   "source": [
    "<div class=\"alert alert-info\">\n",
    "    <b>REMEMBER</b>: \n",
    "    <ul>\n",
    "        <li> Instead of `open`-ing a file, do something and `close` again, use `with` (general Python advice)\n",
    "    </ul>\n",
    "</div>"
   ]
  },
  {
   "cell_type": "markdown",
   "metadata": {},
   "source": [
    "The projection information is interpreted by Fiona as well:"
   ]
  },
  {
   "cell_type": "code",
   "execution_count": 33,
   "metadata": {
    "run_control": {
     "frozen": false,
     "read_only": false
    }
   },
   "outputs": [
    {
     "name": "stdout",
     "output_type": "stream",
     "text": [
      "{'lon_0': 4.367486666666666, 'no_defs': True, 'lat_1': 49.8333339, 'x_0': 150000.01256, 'units': 'm', 'y_0': 5400088.4378, 'ellps': 'intl', 'proj': 'lcc', 'lat_2': 51.16666723333333, 'lat_0': 90}\n",
      "PROJCS[\"Belge_Lambert_1972\",GEOGCS[\"GCS_Belge_1972\",DATUM[\"Reseau_National_Belge_1972\",SPHEROID[\"International_1924\",6378388.0,297.0]],PRIMEM[\"Greenwich\",0.0],UNIT[\"Degree\",0.0174532925199433]],PROJECTION[\"Lambert_Conformal_Conic_2SP\"],PARAMETER[\"False_Easting\",150000.01256],PARAMETER[\"False_Northing\",5400088.4378],PARAMETER[\"Central_Meridian\",4.367486666666666],PARAMETER[\"Standard_Parallel_1\",49.8333339],PARAMETER[\"Standard_Parallel_2\",51.16666723333333],PARAMETER[\"Latitude_Of_Origin\",90.0],UNIT[\"Meter\",1.0]]\n"
     ]
    }
   ],
   "source": [
    "with fiona.open('../data/deelbekkens/Deelbekken.shp') as deelbekkens:\n",
    "    #print(deelbekkens.crs_wkt)\n",
    "    print(deelbekkens.crs)\n",
    "    print(deelbekkens.crs_wkt)"
   ]
  },
  {
   "cell_type": "markdown",
   "metadata": {},
   "source": [
    "<div class=\"alert alert-warning\">\n",
    "    <p>Actually, **GeoPandas relies on Fiona** and translates this information into a tabular information, compatible to Pandas:</p>\n",
    "</div>"
   ]
  },
  {
   "cell_type": "code",
   "execution_count": 5,
   "metadata": {
    "run_control": {
     "frozen": false,
     "read_only": false
    }
   },
   "outputs": [
    {
     "data": {
      "text/html": [
       "<div>\n",
       "<table border=\"1\" class=\"dataframe\">\n",
       "  <thead>\n",
       "    <tr style=\"text-align: right;\">\n",
       "      <th></th>\n",
       "      <th>BEKNAAM</th>\n",
       "      <th>BEKNR</th>\n",
       "      <th>DEELBEKKEN</th>\n",
       "      <th>LENGTE</th>\n",
       "      <th>OIDN</th>\n",
       "      <th>OPPERVL</th>\n",
       "      <th>STRMGEB</th>\n",
       "      <th>UIDN</th>\n",
       "      <th>geometry</th>\n",
       "    </tr>\n",
       "  </thead>\n",
       "  <tbody>\n",
       "    <tr>\n",
       "      <th>0</th>\n",
       "      <td>Boven-Scheldebekken</td>\n",
       "      <td>6</td>\n",
       "      <td>06-02</td>\n",
       "      <td>35788.31</td>\n",
       "      <td>41</td>\n",
       "      <td>3.424316e+07</td>\n",
       "      <td>Schelde</td>\n",
       "      <td>142</td>\n",
       "      <td>POLYGON ((98710.32800000161 162573.7030000016,...</td>\n",
       "    </tr>\n",
       "    <tr>\n",
       "      <th>1</th>\n",
       "      <td>Demerbekken</td>\n",
       "      <td>9</td>\n",
       "      <td>09-02</td>\n",
       "      <td>73615.82</td>\n",
       "      <td>67</td>\n",
       "      <td>1.412802e+08</td>\n",
       "      <td>Schelde</td>\n",
       "      <td>812</td>\n",
       "      <td>POLYGON ((201200.3610000014 183565.3020000011,...</td>\n",
       "    </tr>\n",
       "    <tr>\n",
       "      <th>2</th>\n",
       "      <td>Leiebekken</td>\n",
       "      <td>5</td>\n",
       "      <td>05-04</td>\n",
       "      <td>65791.53</td>\n",
       "      <td>37</td>\n",
       "      <td>8.875261e+07</td>\n",
       "      <td>Schelde</td>\n",
       "      <td>936</td>\n",
       "      <td>POLYGON ((74660.39793749899 190219.0009999983,...</td>\n",
       "    </tr>\n",
       "    <tr>\n",
       "      <th>3</th>\n",
       "      <td>Boven-Scheldebekken</td>\n",
       "      <td>6</td>\n",
       "      <td>06-03</td>\n",
       "      <td>71432.94</td>\n",
       "      <td>42</td>\n",
       "      <td>1.782935e+08</td>\n",
       "      <td>Schelde</td>\n",
       "      <td>939</td>\n",
       "      <td>POLYGON ((101010.7037499994 175254.0949999988,...</td>\n",
       "    </tr>\n",
       "    <tr>\n",
       "      <th>4</th>\n",
       "      <td>Boven-Scheldebekken</td>\n",
       "      <td>6</td>\n",
       "      <td>06-04</td>\n",
       "      <td>71988.34</td>\n",
       "      <td>43</td>\n",
       "      <td>1.584879e+08</td>\n",
       "      <td>Schelde</td>\n",
       "      <td>940</td>\n",
       "      <td>POLYGON ((105339.2030000016 188480.7000624985,...</td>\n",
       "    </tr>\n",
       "  </tbody>\n",
       "</table>\n",
       "</div>"
      ],
      "text/plain": [
       "               BEKNAAM  BEKNR DEELBEKKEN    LENGTE  OIDN       OPPERVL  \\\n",
       "0  Boven-Scheldebekken      6      06-02  35788.31    41  3.424316e+07   \n",
       "1          Demerbekken      9      09-02  73615.82    67  1.412802e+08   \n",
       "2           Leiebekken      5      05-04  65791.53    37  8.875261e+07   \n",
       "3  Boven-Scheldebekken      6      06-03  71432.94    42  1.782935e+08   \n",
       "4  Boven-Scheldebekken      6      06-04  71988.34    43  1.584879e+08   \n",
       "\n",
       "   STRMGEB  UIDN                                           geometry  \n",
       "0  Schelde   142  POLYGON ((98710.32800000161 162573.7030000016,...  \n",
       "1  Schelde   812  POLYGON ((201200.3610000014 183565.3020000011,...  \n",
       "2  Schelde   936  POLYGON ((74660.39793749899 190219.0009999983,...  \n",
       "3  Schelde   939  POLYGON ((101010.7037499994 175254.0949999988,...  \n",
       "4  Schelde   940  POLYGON ((105339.2030000016 188480.7000624985,...  "
      ]
     },
     "execution_count": 5,
     "metadata": {},
     "output_type": "execute_result"
    }
   ],
   "source": [
    "df_deelbekkens = gpd.read_file('../data/deelbekkens/Deelbekken.shp')\n",
    "df_deelbekkens.head()"
   ]
  },
  {
   "cell_type": "markdown",
   "metadata": {},
   "source": [
    "The capabilities to read file with `Fiona` is dependent on the available `drivers` on your computer. You can get an overview by asking fiona for the supported drivers:"
   ]
  },
  {
   "cell_type": "code",
   "execution_count": 6,
   "metadata": {
    "run_control": {
     "frozen": false,
     "read_only": false
    }
   },
   "outputs": [
    {
     "data": {
      "text/plain": [
       "{'ARCGEN': 'r',\n",
       " 'AeronavFAA': 'r',\n",
       " 'BNA': 'raw',\n",
       " 'DGN': 'raw',\n",
       " 'DXF': 'raw',\n",
       " 'ESRI Shapefile': 'raw',\n",
       " 'GPKG': 'rw',\n",
       " 'GPSTrackMaker': 'raw',\n",
       " 'GPX': 'raw',\n",
       " 'GeoJSON': 'rw',\n",
       " 'Idrisi': 'r',\n",
       " 'MapInfo File': 'raw',\n",
       " 'OpenFileGDB': 'r',\n",
       " 'PCIDSK': 'r',\n",
       " 'SEGY': 'r',\n",
       " 'SUA': 'r'}"
      ]
     },
     "execution_count": 6,
     "metadata": {},
     "output_type": "execute_result"
    }
   ],
   "source": [
    "fiona.supported_drivers"
   ]
  },
  {
   "cell_type": "markdown",
   "metadata": {},
   "source": [
    "It provides also information about what you can do with the different types of data:\n",
    "* `r`: reading\n",
    "* `a`: appending (adding elements)\n",
    "* `w`: writing "
   ]
  },
  {
   "cell_type": "markdown",
   "metadata": {},
   "source": [
    "<div class=\"alert alert-success\">\n",
    "    <b>EXERCISE</b>: \n",
    "<ul>\n",
    "    <li>Open the `EUgrid10.geojson` file in the data folder using the Fiona package and check the `type` of `geometry` and the `cellcode` in the `properties` of the first feature in the dataset</li>\n",
    "</ul>\n",
    "</div>"
   ]
  },
  {
   "cell_type": "code",
   "execution_count": 7,
   "metadata": {
    "clear_cell": true,
    "run_control": {
     "frozen": false,
     "read_only": false
    }
   },
   "outputs": [
    {
     "name": "stdout",
     "output_type": "stream",
     "text": [
      "cellcode:  10kmE379N312\n",
      "Vectortype:  Polygon\n"
     ]
    }
   ],
   "source": [
    "with fiona.open('../data/EUgrid10.geojson') as eugrid:\n",
    "    feature = next(iter(eugrid)) # Just one checking the first\n",
    "    print(\"cellcode: \", feature['properties']['CellCode'])\n",
    "    print(\"Vectortype: \", feature['geometry']['type'])"
   ]
  },
  {
   "cell_type": "markdown",
   "metadata": {},
   "source": [
    "<div class=\"alert alert-success\">\n",
    "    <b>EXERCISE</b>: \n",
    "<ul>\n",
    "    <li>Read again the EUgrid10.geojson file in the data folder, but use the GeoPandas library and show only the first feature</li>\n",
    "</ul>\n",
    "</div>"
   ]
  },
  {
   "cell_type": "code",
   "execution_count": 8,
   "metadata": {
    "clear_cell": true,
    "run_control": {
     "frozen": false,
     "read_only": false
    }
   },
   "outputs": [
    {
     "data": {
      "text/html": [
       "<div>\n",
       "<table border=\"1\" class=\"dataframe\">\n",
       "  <thead>\n",
       "    <tr style=\"text-align: right;\">\n",
       "      <th></th>\n",
       "      <th>CellCode</th>\n",
       "      <th>EofOrigin</th>\n",
       "      <th>NofOrigin</th>\n",
       "      <th>geometry</th>\n",
       "    </tr>\n",
       "  </thead>\n",
       "  <tbody>\n",
       "    <tr>\n",
       "      <th>0</th>\n",
       "      <td>10kmE379N312</td>\n",
       "      <td>3790000.0</td>\n",
       "      <td>3120000.0</td>\n",
       "      <td>POLYGON ((2.429361848365367 50.9437587892485, ...</td>\n",
       "    </tr>\n",
       "  </tbody>\n",
       "</table>\n",
       "</div>"
      ],
      "text/plain": [
       "       CellCode  EofOrigin  NofOrigin  \\\n",
       "0  10kmE379N312  3790000.0  3120000.0   \n",
       "\n",
       "                                            geometry  \n",
       "0  POLYGON ((2.429361848365367 50.9437587892485, ...  "
      ]
     },
     "execution_count": 8,
     "metadata": {},
     "output_type": "execute_result"
    }
   ],
   "source": [
    "gpd.read_file('../data/EUgrid10.geojson').head(1)"
   ]
  },
  {
   "cell_type": "markdown",
   "metadata": {},
   "source": [
    "So, what about GDAL?"
   ]
  },
  {
   "cell_type": "code",
   "execution_count": 9,
   "metadata": {
    "run_control": {
     "frozen": false,
     "read_only": false
    }
   },
   "outputs": [
    {
     "data": {
      "text/plain": [
       "1"
      ]
     },
     "execution_count": 9,
     "metadata": {},
     "output_type": "execute_result"
    }
   ],
   "source": [
    "driver = ogr.GetDriverByName('ESRI Shapefile')\n",
    "deelbekken_gdal = driver.Open('../data/deelbekkens/Deelbekken.shp')\n",
    "deelbekken_gdal.GetLayerCount()"
   ]
  },
  {
   "cell_type": "code",
   "execution_count": 10,
   "metadata": {
    "run_control": {
     "frozen": false,
     "read_only": false
    }
   },
   "outputs": [
    {
     "name": "stdout",
     "output_type": "stream",
     "text": [
      "The number of features of the deelbekken shapefile is:  102\n"
     ]
    }
   ],
   "source": [
    "deelbekken_layer = deelbekken_gdal.GetLayer()\n",
    "print(\"The number of features of the deelbekken shapefile is: \", deelbekken_layer.GetFeatureCount())"
   ]
  },
  {
   "cell_type": "markdown",
   "metadata": {},
   "source": [
    "That's why they call it `not pythonic`...\n",
    "\n",
    "However, `GDAL` is powerfull for other activities, we'll come back to that later. Moreover, it supports mostly more file formats as fiona (GeoPandas) provide:"
   ]
  },
  {
   "cell_type": "code",
   "execution_count": 11,
   "metadata": {
    "run_control": {
     "frozen": false,
     "read_only": false
    }
   },
   "outputs": [
    {
     "name": "stdout",
     "output_type": "stream",
     "text": [
      "Supported Formats:\r\n",
      "  PCIDSK -raster,vector- (rw+v): PCIDSK Database File\r\n",
      "  netCDF -raster,vector- (rw+s): Network Common Data Format\r\n",
      "  JP2OpenJPEG -raster,vector- (rwv): JPEG-2000 driver based on OpenJPEG library\r\n",
      "  PDF -raster,vector- (w+): Geospatial PDF\r\n",
      "  ESRI Shapefile -vector- (rw+v): ESRI Shapefile\r\n",
      "  MapInfo File -vector- (rw+v): MapInfo File\r\n",
      "  UK .NTF -vector- (ro): UK .NTF\r\n",
      "  OGR_SDTS -vector- (ro): SDTS\r\n",
      "  S57 -vector- (rw+v): IHO S-57 (ENC)\r\n",
      "  DGN -vector- (rw+): Microstation DGN\r\n",
      "  OGR_VRT -vector- (rov): VRT - Virtual Datasource\r\n",
      "  REC -vector- (ro): EPIInfo .REC \r\n",
      "  Memory -vector- (rw+): Memory\r\n",
      "  BNA -vector- (rw+v): Atlas BNA\r\n",
      "  CSV -vector- (rw+v): Comma Separated Value (.csv)\r\n",
      "  NAS -vector- (ro): NAS - ALKIS\r\n",
      "  GML -vector- (rw+v): Geography Markup Language (GML)\r\n",
      "  GPX -vector- (rw+v): GPX\r\n",
      "  KML -vector- (rw+v): Keyhole Markup Language (KML)\r\n",
      "  GeoJSON -vector- (rw+v): GeoJSON\r\n",
      "  Interlis 1 -vector- (rw+): Interlis 1\r\n",
      "  Interlis 2 -vector- (rw+): Interlis 2\r\n",
      "  OGR_GMT -vector- (rw+): GMT ASCII Vectors (.gmt)\r\n",
      "  GPKG -raster,vector- (rw+vs): GeoPackage\r\n",
      "  SQLite -vector- (rw+v): SQLite / Spatialite\r\n",
      "  OGR_DODS -vector- (ro): OGR_DODS\r\n",
      "  WAsP -vector- (rw+v): WAsP .map format\r\n",
      "  PostgreSQL -vector- (rw+): PostgreSQL/PostGIS\r\n",
      "  OpenFileGDB -vector- (rov): ESRI FileGDB\r\n",
      "  XPlane -vector- (rov): X-Plane/Flightgear aeronautical data\r\n",
      "  DXF -vector- (rw+v): AutoCAD DXF\r\n",
      "  Geoconcept -vector- (rw+): Geoconcept\r\n",
      "  GeoRSS -vector- (rw+v): GeoRSS\r\n",
      "  GPSTrackMaker -vector- (rw+v): GPSTrackMaker\r\n",
      "  VFK -vector- (ro): Czech Cadastral Exchange Data Format\r\n",
      "  PGDUMP -vector- (w+v): PostgreSQL SQL dump\r\n",
      "  OSM -vector- (rov): OpenStreetMap XML and PBF\r\n",
      "  GPSBabel -vector- (rw+): GPSBabel\r\n",
      "  SUA -vector- (rov): Tim Newport-Peace's Special Use Airspace Format\r\n",
      "  OpenAir -vector- (rov): OpenAir\r\n",
      "  OGR_PDS -vector- (rov): Planetary Data Systems TABLE\r\n",
      "  WFS -vector- (rov): OGC WFS (Web Feature Service)\r\n",
      "  HTF -vector- (rov): Hydrographic Transfer Vector\r\n",
      "  AeronavFAA -vector- (rov): Aeronav FAA\r\n",
      "  EDIGEO -vector- (rov): French EDIGEO exchange format\r\n",
      "  GFT -vector- (rw+): Google Fusion Tables\r\n",
      "  SVG -vector- (rov): Scalable Vector Graphics\r\n",
      "  CouchDB -vector- (rw+): CouchDB / GeoCouch\r\n",
      "  Cloudant -vector- (rw+): Cloudant / CouchDB\r\n",
      "  Idrisi -vector- (rov): Idrisi Vector (.vct)\r\n",
      "  ARCGEN -vector- (rov): Arc/Info Generate\r\n",
      "  SEGUKOOA -vector- (rov): SEG-P1 / UKOOA P1/90\r\n",
      "  SEGY -vector- (rov): SEG-Y\r\n",
      "  XLS -vector- (ro): MS Excel format\r\n",
      "  ODS -vector- (rw+v): Open Document/ LibreOffice / OpenOffice Spreadsheet \r\n",
      "  XLSX -vector- (rw+v): MS Office Open XML spreadsheet\r\n",
      "  ElasticSearch -vector- (rw+): Elastic Search\r\n",
      "  Carto -vector- (rw+): Carto\r\n",
      "  AmigoCloud -vector- (rw+): AmigoCloud\r\n",
      "  SXF -vector- (ro): Storage and eXchange Format\r\n",
      "  Selafin -vector- (rw+v): Selafin\r\n",
      "  JML -vector- (rw+v): OpenJUMP JML\r\n",
      "  PLSCENES -raster,vector- (ro): Planet Labs Scenes API\r\n",
      "  CSW -vector- (ro): OGC CSW (Catalog  Service for the Web)\r\n",
      "  VDV -vector- (rw+v): VDV-451/VDV-452/INTREST Data Format\r\n",
      "  TIGER -vector- (rw+v): U.S. Census TIGER/Line\r\n",
      "  AVCBin -vector- (ro): Arc/Info Binary Coverage\r\n",
      "  AVCE00 -vector- (ro): Arc/Info E00 (ASCII) Coverage\r\n",
      "  HTTP -raster,vector- (ro): HTTP Fetching Wrapper\r\n"
     ]
    }
   ],
   "source": [
    "!ogr2ogr --formats"
   ]
  },
  {
   "cell_type": "markdown",
   "metadata": {},
   "source": [
    "For example, the interaction with an Esri File GeoDataBase, is provided in [this](https://pcjericks.github.io/py-gdalogr-cookbook/vector_layers.html#get-all-layers-in-an-esri-file-geodatabase) example..."
   ]
  },
  {
   "cell_type": "markdown",
   "metadata": {},
   "source": [
    "<div class=\"alert alert-info\">\n",
    "    <b>REMEMBER</b>: \n",
    "    <ul>\n",
    "        <li> try `GeoPandas` first!\n",
    "        <li> If that does not work, check if your available GDAL drivers support the format.\n",
    "    </ul>\n",
    "</div>"
   ]
  },
  {
   "cell_type": "markdown",
   "metadata": {},
   "source": [
    "## Shapely: working with GEOMetries"
   ]
  },
  {
   "cell_type": "markdown",
   "metadata": {},
   "source": [
    "<p>Shapely is a Python library for geometric operations using the **GEOS** library.</p>\n",
    "\n",
    "<p>Shapely can perform:</p>\n",
    "<ul>\n",
    "<li>geometry validation</li>\n",
    "<li>geometry creation (e.g. collections)</li>\n",
    "<li>geometry operations</li>\n",
    "</ul>"
   ]
  },
  {
   "cell_type": "code",
   "execution_count": 12,
   "metadata": {
    "collapsed": true,
    "run_control": {
     "frozen": false,
     "read_only": false
    }
   },
   "outputs": [],
   "source": [
    "from shapely.geometry import LineString, Polygon"
   ]
  },
  {
   "cell_type": "code",
   "execution_count": 13,
   "metadata": {
    "run_control": {
     "frozen": false,
     "read_only": false
    }
   },
   "outputs": [
    {
     "data": {
      "image/svg+xml": [
       "<svg xmlns=\"http://www.w3.org/2000/svg\" xmlns:xlink=\"http://www.w3.org/1999/xlink\" width=\"100.0\" height=\"100.0\" viewBox=\"-0.12 -0.12 3.24 2.24\" preserveAspectRatio=\"xMinYMin meet\"><g transform=\"matrix(1,0,0,-1,0,2.0)\"><polyline fill=\"none\" stroke=\"#66cc99\" stroke-width=\"0.06480000000000001\" points=\"0.0,0.0 1.0,1.0 0.0,2.0 2.0,2.0 3.0,1.0 1.0,0.0\" opacity=\"0.8\" /></g></svg>"
      ],
      "text/plain": [
       "<shapely.geometry.linestring.LineString at 0x7f0874fc8518>"
      ]
     },
     "execution_count": 13,
     "metadata": {},
     "output_type": "execute_result"
    }
   ],
   "source": [
    "line = LineString([(0, 0), (1, 1), (0, 2), (2, 2), (3, 1), (1, 0)])\n",
    "line"
   ]
  },
  {
   "cell_type": "code",
   "execution_count": 14,
   "metadata": {
    "run_control": {
     "frozen": false,
     "read_only": false
    }
   },
   "outputs": [
    {
     "data": {
      "image/svg+xml": [
       "<svg xmlns=\"http://www.w3.org/2000/svg\" xmlns:xlink=\"http://www.w3.org/1999/xlink\" width=\"100.0\" height=\"100.0\" viewBox=\"-0.8753897382885083 -0.8753897382885083 4.543639841752941 3.543672695390469\" preserveAspectRatio=\"xMinYMin meet\"><g transform=\"matrix(1,0,0,-1,0,1.7928932188134525)\"><path fill-rule=\"evenodd\" fill=\"#66cc99\" stroke=\"#555555\" stroke-width=\"0.09087279683505882\" opacity=\"0.6\" d=\"M 0.29289321881345254,1.0 L -0.35355339059327373,1.6464466094067263 L -0.3865052266813704,1.6828033579181796 L -0.4157348061512742,1.7222148834902011 L -0.4409606321741788,1.7643016315870035 L -0.4619397662556444,1.8086582838174576 L -0.4784701678661052,1.8548576613727712 L -0.4903926402016157,1.9024548389919382 L -0.4975923633360987,1.950991429835222 L -0.5,2.000000000000002 L -0.49759236333609824,2.049008570164782 L -0.4903926402016148,2.097545161008066 L -0.4784701678661039,2.145142338627233 L -0.46193976625564276,2.1913417161825466 L -0.44096063217417686,2.2356983684130003 L -0.4157348061512719,2.277785116509802 L -0.3865052266813678,2.3171966420818237 L -0.3535533905932731,2.3535533905932744 L -0.31719664208182213,2.386505226681369 L -0.2777851165098006,2.415734806151273 L -0.23569836841299843,2.4409606321741775 L -0.19134171618254464,2.4619397662556435 L -0.14514233862723108,2.4784701678661043 L -0.09754516100806421,2.490392640201615 L -0.049008570164780545,2.4975923633360986 L -4.134730398713788e-16,2.5 L 2.0,2.5 L 2.0490085701647804,2.4975923633360986 L 2.097545161008064,2.490392640201615 L 2.145142338627231,2.4784701678661043 L 2.191341716182545,2.4619397662556435 L 2.235698368412999,2.4409606321741775 L 2.277785116509801,2.4157348061512725 L 2.317196642081823,2.3865052266813684 L 2.353553390593274,2.353553390593274 L 3.353553390593274,1.3535533905932737 L 3.3869593598581984,1.3166424700164734 L 3.416529207756272,1.2765925145153654 L 3.441969793619239,1.2338005592982344 L 3.4630289122153934,1.1886908223858001 L 3.4794977939859795,1.1417104991261375 L 3.491213174682082,1.093325328923881 L 3.49805891388465,1.0440149781329329 L 3.4999671463624717,0.9942682848843708 L 3.496918954854096,0.9445784129899474 L 3.488944557604095,0.8954379629629573 L 3.476123008794514,0.847334088623363 L 3.4585814148412894,0.8007436676987123 L 3.436493674324875,0.7561285742970899 L 3.410078754046775,0.713931100118443 L 3.3795985183022994,0.674569569796095 L 3.3453551328890363,0.6384341938357612 L 3.3076880695864137,0.6058832002639493 L 3.266970740802428,0.5772392833346471 L 3.223606797749979,0.5527864045000421 L 1.223606797749979,-0.4472135954999579 L 0.7763932022500211,-0.670820393249937 L 0.5296909308122175,-0.17741585037432994 L 0.35355339059327373,-0.35355339059327373 L 0.0,-0.7071067811865475 L -0.7071067811865475,-5.551115123125783e-17 L 0.29289321881345254,1.0 z M 1.4503736709046264,0.7842038298272604 L 2.1559174829590035,1.136975735854449 L 1.7928932188134525,1.5 L 1.2071067811865475,1.5 L 1.3535533905932737,1.3535533905932737 L 1.3865052266813684,1.3171966420818229 L 1.4157348061512727,1.277785116509801 L 1.4409606321741775,1.2356983684129987 L 1.4619397662556435,1.1913417161825448 L 1.4784701678661043,1.1451423386272312 L 1.4903926402016152,1.0975451610080642 L 1.4975923633360986,1.0490085701647802 L 1.5,1.0 L 1.4975923633360986,0.9509914298352197 L 1.4903926402016152,0.9024548389919359 L 1.4784701678661045,0.8548576613727689 L 1.4619397662556435,0.8086582838174551 L 1.4503736709046264,0.7842038298272604 z\" /></g></svg>"
      ],
      "text/plain": [
       "<shapely.geometry.polygon.Polygon at 0x7f0874fc8160>"
      ]
     },
     "execution_count": 14,
     "metadata": {},
     "output_type": "execute_result"
    }
   ],
   "source": [
    "dilated = line.buffer(0.5, cap_style=3)\n",
    "dilated"
   ]
  },
  {
   "cell_type": "markdown",
   "metadata": {},
   "source": [
    "Getting back the coorindates as x, y arrays:"
   ]
  },
  {
   "cell_type": "code",
   "execution_count": 15,
   "metadata": {
    "run_control": {
     "frozen": false,
     "read_only": false
    }
   },
   "outputs": [
    {
     "data": {
      "image/svg+xml": [
       "<svg xmlns=\"http://www.w3.org/2000/svg\" xmlns:xlink=\"http://www.w3.org/1999/xlink\" width=\"100.0\" height=\"100.0\" viewBox=\"0.168 0.168 0.864 0.864\" preserveAspectRatio=\"xMinYMin meet\"><g transform=\"matrix(1,0,0,-1,0,1.2)\"><path fill-rule=\"evenodd\" fill=\"#66cc99\" stroke=\"#555555\" stroke-width=\"0.01728\" opacity=\"0.6\" d=\"M 0.2,0.2 L 0.2,1.0 L 1.0,1.0 L 1.0,0.2 L 0.2,0.2 z\" /></g></svg>"
      ],
      "text/plain": [
       "<shapely.geometry.polygon.Polygon at 0x7f0874fc85c0>"
      ]
     },
     "execution_count": 15,
     "metadata": {},
     "output_type": "execute_result"
    }
   ],
   "source": [
    "polygon = Polygon(LineString([(0.2, 0.2), (0.2, 1), (1, 1), (1, 0.2)]))\n",
    "polygon"
   ]
  },
  {
   "cell_type": "code",
   "execution_count": 16,
   "metadata": {
    "run_control": {
     "frozen": false,
     "read_only": false
    }
   },
   "outputs": [
    {
     "data": {
      "text/plain": [
       "(array('d', [0.0, 1.0, 0.0, 2.0, 3.0, 1.0]),\n",
       " array('d', [0.0, 1.0, 2.0, 2.0, 1.0, 0.0]))"
      ]
     },
     "execution_count": 16,
     "metadata": {},
     "output_type": "execute_result"
    }
   ],
   "source": [
    "line.coords.xy"
   ]
  },
  {
   "cell_type": "markdown",
   "metadata": {},
   "source": [
    "Binary predicates to check if the line is contained by the polygon"
   ]
  },
  {
   "cell_type": "code",
   "execution_count": 17,
   "metadata": {
    "run_control": {
     "frozen": false,
     "read_only": false
    }
   },
   "outputs": [
    {
     "data": {
      "text/plain": [
       "False"
      ]
     },
     "execution_count": 17,
     "metadata": {},
     "output_type": "execute_result"
    }
   ],
   "source": [
    "line.within(polygon)"
   ]
  },
  {
   "cell_type": "markdown",
   "metadata": {},
   "source": [
    "<div class=\"alert alert-success\">\n",
    "    <b>EXERCISE</b>: \n",
    "<ul>\n",
    "    <li>Check if the polygon intersects with the line object</li>\n",
    "</ul>\n",
    "</div>"
   ]
  },
  {
   "cell_type": "code",
   "execution_count": 29,
   "metadata": {
    "clear_cell": true,
    "run_control": {
     "frozen": false,
     "read_only": false
    }
   },
   "outputs": [
    {
     "data": {
      "text/plain": [
       "True"
      ]
     },
     "execution_count": 29,
     "metadata": {},
     "output_type": "execute_result"
    }
   ],
   "source": [
    "polygon.intersects(line)"
   ]
  },
  {
   "cell_type": "markdown",
   "metadata": {},
   "source": [
    "<div class=\"alert alert-warning\">\n",
    "    <p>Actually, **GeoPandas relies on shapely** and uses these geometric properties and operations</p>\n",
    "</div>\n"
   ]
  },
  {
   "cell_type": "code",
   "execution_count": 19,
   "metadata": {
    "collapsed": true,
    "run_control": {
     "frozen": false,
     "read_only": false
    }
   },
   "outputs": [],
   "source": [
    "deelbekkens = gpd.read_file(\"../data/deelbekkens/Deelbekken.shp\")"
   ]
  },
  {
   "cell_type": "code",
   "execution_count": 22,
   "metadata": {
    "collapsed": true,
    "run_control": {
     "frozen": false,
     "read_only": false
    }
   },
   "outputs": [],
   "source": [
    "demer = deelbekkens[deelbekkens[\"BEKNAAM\"] == \"Demerbekken\"]"
   ]
  },
  {
   "cell_type": "code",
   "execution_count": 28,
   "metadata": {
    "run_control": {
     "frozen": false,
     "read_only": false
    }
   },
   "outputs": [
    {
     "data": {
      "text/plain": [
       "<matplotlib.axes._subplots.AxesSubplot at 0x7f083404e0f0>"
      ]
     },
     "execution_count": 28,
     "metadata": {},
     "output_type": "execute_result"
    },
    {
     "data": {
      "image/png": "[encoded data removed]",
      "text/plain": [
       "<matplotlib.figure.Figure at 0x7f0836243978>"
      ]
     },
     "metadata": {},
     "output_type": "display_data"
    },
    {
     "data": {
      "image/png": "[encoded data removed]",
      "text/plain": [
       "<matplotlib.figure.Figure at 0x7f08340c8860>"
      ]
     },
     "metadata": {},
     "output_type": "display_data"
    }
   ],
   "source": [
    "demer.plot()\n",
    "demer.convex_hull.plot()"
   ]
  },
  {
   "cell_type": "markdown",
   "metadata": {},
   "source": [
    "## pyproj: handling projections"
   ]
  },
  {
   "cell_type": "markdown",
   "metadata": {},
   "source": [
    "Pyproj handles the Spatial Reference Systems (SRS) transformations. Actually, the only items to remember are:\n",
    "* `pyproj.Proj`: define a SRS\n",
    "* `pyproj.transform`: execute a transformation between two defined SRS"
   ]
  },
  {
   "cell_type": "code",
   "execution_count": 3,
   "metadata": {
    "collapsed": true,
    "run_control": {
     "frozen": false,
     "read_only": false
    }
   },
   "outputs": [],
   "source": [
    "from pyproj import Proj, transform"
   ]
  },
  {
   "cell_type": "markdown",
   "metadata": {},
   "source": [
    "### Define SRS"
   ]
  },
  {
   "cell_type": "markdown",
   "metadata": {},
   "source": [
    "The easiest way is mostly just using the [`EPSG` code](http://spatialreference.org/):"
   ]
  },
  {
   "cell_type": "markdown",
   "metadata": {},
   "source": [
    "Lambert 72:"
   ]
  },
  {
   "cell_type": "code",
   "execution_count": 4,
   "metadata": {
    "collapsed": true,
    "run_control": {
     "frozen": false,
     "read_only": false
    }
   },
   "outputs": [],
   "source": [
    "srs_lambert = Proj(init='epsg:31370')"
   ]
  },
  {
   "cell_type": "code",
   "execution_count": 5,
   "metadata": {
    "run_control": {
     "frozen": false,
     "read_only": false
    }
   },
   "outputs": [
    {
     "data": {
      "text/plain": [
       "'+units=m +init=epsg:31370 '"
      ]
     },
     "execution_count": 5,
     "metadata": {},
     "output_type": "execute_result"
    }
   ],
   "source": [
    "srs_lambert.srs"
   ]
  },
  {
   "cell_type": "markdown",
   "metadata": {},
   "source": [
    "WGS84:"
   ]
  },
  {
   "cell_type": "code",
   "execution_count": 6,
   "metadata": {
    "collapsed": true,
    "run_control": {
     "frozen": false,
     "read_only": false
    }
   },
   "outputs": [],
   "source": [
    "srs_wgs84 = Proj(init='epsg:4326')"
   ]
  },
  {
   "cell_type": "code",
   "execution_count": 72,
   "metadata": {
    "run_control": {
     "frozen": false,
     "read_only": false
    }
   },
   "outputs": [
    {
     "data": {
      "text/plain": [
       "True"
      ]
     },
     "execution_count": 72,
     "metadata": {},
     "output_type": "execute_result"
    }
   ],
   "source": [
    "srs_wgs84.is_latlong()"
   ]
  },
  {
   "cell_type": "markdown",
   "metadata": {},
   "source": [
    "Other methods to define the SRS are also available:"
   ]
  },
  {
   "cell_type": "code",
   "execution_count": 65,
   "metadata": {
    "collapsed": true,
    "run_control": {
     "frozen": false,
     "read_only": false
    }
   },
   "outputs": [],
   "source": [
    "utm32 = Proj(proj=\"utm\", zone=\"32\")"
   ]
  },
  {
   "cell_type": "markdown",
   "metadata": {},
   "source": [
    "### Transform coordinates"
   ]
  },
  {
   "cell_type": "markdown",
   "metadata": {},
   "source": [
    "The transform function takes the two defined SRS objects, together with an X/Y coordinate combination"
   ]
  },
  {
   "cell_type": "code",
   "execution_count": 79,
   "metadata": {
    "run_control": {
     "frozen": false,
     "read_only": false
    }
   },
   "outputs": [
    {
     "data": {
      "text/plain": [
       "(3.6416250241767285, 50.77139842297889)"
      ]
     },
     "execution_count": 79,
     "metadata": {},
     "output_type": "execute_result"
    }
   ],
   "source": [
    "transform(srs_lambert, srs_wgs84, 98710.32800000161, 162573.7030000016)"
   ]
  },
  {
   "cell_type": "markdown",
   "metadata": {},
   "source": [
    "<div class=\"alert alert-warning\">\n",
    "    <p>Actually, **GeoPandas relies on pyproj** to perform SRS transformations using the EPSG code (but calls it `coordinate reference system (CRS)`...)</p>\n",
    "</div>\n"
   ]
  },
  {
   "cell_type": "code",
   "execution_count": 83,
   "metadata": {
    "run_control": {
     "frozen": false,
     "read_only": false
    }
   },
   "outputs": [
    {
     "data": {
      "text/plain": [
       "{'ellps': 'intl',\n",
       " 'lat_0': 90,\n",
       " 'lat_1': 49.8333339,\n",
       " 'lat_2': 51.16666723333333,\n",
       " 'lon_0': 4.367486666666666,\n",
       " 'no_defs': True,\n",
       " 'proj': 'lcc',\n",
       " 'units': 'm',\n",
       " 'x_0': 150000.01256,\n",
       " 'y_0': 5400088.4378}"
      ]
     },
     "execution_count": 83,
     "metadata": {},
     "output_type": "execute_result"
    }
   ],
   "source": [
    "deelbekkens = gpd.read_file(\"../data/deelbekkens/Deelbekken.shp\")\n",
    "deelbekkens.crs"
   ]
  },
  {
   "cell_type": "code",
   "execution_count": 170,
   "metadata": {
    "run_control": {
     "frozen": false,
     "read_only": false
    }
   },
   "outputs": [
    {
     "data": {
      "text/html": [
       "<div>\n",
       "<table border=\"1\" class=\"dataframe\">\n",
       "  <thead>\n",
       "    <tr style=\"text-align: right;\">\n",
       "      <th></th>\n",
       "      <th>BEKNAAM</th>\n",
       "      <th>BEKNR</th>\n",
       "      <th>DEELBEKKEN</th>\n",
       "      <th>LENGTE</th>\n",
       "      <th>OIDN</th>\n",
       "      <th>OPPERVL</th>\n",
       "      <th>STRMGEB</th>\n",
       "      <th>UIDN</th>\n",
       "      <th>geometry</th>\n",
       "    </tr>\n",
       "  </thead>\n",
       "  <tbody>\n",
       "    <tr>\n",
       "      <th>0</th>\n",
       "      <td>Boven-Scheldebekken</td>\n",
       "      <td>6</td>\n",
       "      <td>06-02</td>\n",
       "      <td>35788.31</td>\n",
       "      <td>41</td>\n",
       "      <td>3.424316e+07</td>\n",
       "      <td>Schelde</td>\n",
       "      <td>142</td>\n",
       "      <td>POLYGON ((3.640380958468267 50.77194110334428,...</td>\n",
       "    </tr>\n",
       "    <tr>\n",
       "      <th>1</th>\n",
       "      <td>Demerbekken</td>\n",
       "      <td>9</td>\n",
       "      <td>09-02</td>\n",
       "      <td>73615.82</td>\n",
       "      <td>67</td>\n",
       "      <td>1.412802e+08</td>\n",
       "      <td>Schelde</td>\n",
       "      <td>812</td>\n",
       "      <td>POLYGON ((5.096246619823092 50.96063764873579,...</td>\n",
       "    </tr>\n",
       "    <tr>\n",
       "      <th>2</th>\n",
       "      <td>Leiebekken</td>\n",
       "      <td>5</td>\n",
       "      <td>05-04</td>\n",
       "      <td>65791.53</td>\n",
       "      <td>37</td>\n",
       "      <td>8.875261e+07</td>\n",
       "      <td>Schelde</td>\n",
       "      <td>936</td>\n",
       "      <td>POLYGON ((3.293811396280227 51.01780909378358,...</td>\n",
       "    </tr>\n",
       "    <tr>\n",
       "      <th>3</th>\n",
       "      <td>Boven-Scheldebekken</td>\n",
       "      <td>6</td>\n",
       "      <td>06-03</td>\n",
       "      <td>71432.94</td>\n",
       "      <td>42</td>\n",
       "      <td>1.782935e+08</td>\n",
       "      <td>Schelde</td>\n",
       "      <td>939</td>\n",
       "      <td>POLYGON ((3.671304769381964 50.88612188803884,...</td>\n",
       "    </tr>\n",
       "    <tr>\n",
       "      <th>4</th>\n",
       "      <td>Boven-Scheldebekken</td>\n",
       "      <td>6</td>\n",
       "      <td>06-04</td>\n",
       "      <td>71988.34</td>\n",
       "      <td>43</td>\n",
       "      <td>1.584879e+08</td>\n",
       "      <td>Schelde</td>\n",
       "      <td>940</td>\n",
       "      <td>POLYGON ((3.7312028078323 51.00536008942669, 3...</td>\n",
       "    </tr>\n",
       "  </tbody>\n",
       "</table>\n",
       "</div>"
      ],
      "text/plain": [
       "               BEKNAAM  BEKNR DEELBEKKEN    LENGTE  OIDN       OPPERVL  \\\n",
       "0  Boven-Scheldebekken      6      06-02  35788.31    41  3.424316e+07   \n",
       "1          Demerbekken      9      09-02  73615.82    67  1.412802e+08   \n",
       "2           Leiebekken      5      05-04  65791.53    37  8.875261e+07   \n",
       "3  Boven-Scheldebekken      6      06-03  71432.94    42  1.782935e+08   \n",
       "4  Boven-Scheldebekken      6      06-04  71988.34    43  1.584879e+08   \n",
       "\n",
       "   STRMGEB  UIDN                                           geometry  \n",
       "0  Schelde   142  POLYGON ((3.640380958468267 50.77194110334428,...  \n",
       "1  Schelde   812  POLYGON ((5.096246619823092 50.96063764873579,...  \n",
       "2  Schelde   936  POLYGON ((3.293811396280227 51.01780909378358,...  \n",
       "3  Schelde   939  POLYGON ((3.671304769381964 50.88612188803884,...  \n",
       "4  Schelde   940  POLYGON ((3.7312028078323 51.00536008942669, 3...  "
      ]
     },
     "execution_count": 170,
     "metadata": {},
     "output_type": "execute_result"
    }
   ],
   "source": [
    "deelbekkens.to_crs(epsg=\"4326\").head()"
   ]
  },
  {
   "cell_type": "markdown",
   "metadata": {},
   "source": [
    "Actually, the function is useful in general to transform the X/Y combinations in any coordinate table. Consider the following example of species data with the coordinates in WGS84."
   ]
  },
  {
   "cell_type": "code",
   "execution_count": 106,
   "metadata": {
    "collapsed": true,
    "run_control": {
     "frozen": false,
     "read_only": false
    }
   },
   "outputs": [],
   "source": [
    "inv_data = pd.read_excel(\"../data/invasive_extract.xlsx\")"
   ]
  },
  {
   "cell_type": "code",
   "execution_count": 107,
   "metadata": {
    "run_control": {
     "frozen": false,
     "read_only": false
    }
   },
   "outputs": [
    {
     "data": {
      "text/html": [
       "<div>\n",
       "<table border=\"1\" class=\"dataframe\">\n",
       "  <thead>\n",
       "    <tr style=\"text-align: right;\">\n",
       "      <th></th>\n",
       "      <th>occurrenceID</th>\n",
       "      <th>institutionCode</th>\n",
       "      <th>basisOfRecord</th>\n",
       "      <th>individualCount</th>\n",
       "      <th>eventID</th>\n",
       "      <th>eventDate</th>\n",
       "      <th>decimalLatitude</th>\n",
       "      <th>decimalLongitude</th>\n",
       "      <th>geodeticDatum</th>\n",
       "      <th>scientificName</th>\n",
       "      <th>vernacularName</th>\n",
       "      <th>verbatimDatasetName</th>\n",
       "    </tr>\n",
       "  </thead>\n",
       "  <tbody>\n",
       "    <tr>\n",
       "      <th>0</th>\n",
       "      <td>INBO:NBN:BFN001790000AACI</td>\n",
       "      <td>INBO</td>\n",
       "      <td>HumanObservation</td>\n",
       "      <td>1</td>\n",
       "      <td>BFN00179000032JR</td>\n",
       "      <td>2005-10-31</td>\n",
       "      <td>51.24325</td>\n",
       "      <td>4.94202</td>\n",
       "      <td>WGS84</td>\n",
       "      <td>Muntiacus reevesii</td>\n",
       "      <td>Chinese muntjak</td>\n",
       "      <td>INBO - Muntjak - Losse waarnemingen</td>\n",
       "    </tr>\n",
       "    <tr>\n",
       "      <th>1</th>\n",
       "      <td>INBO:NBN:BFN0017900009DOC</td>\n",
       "      <td>INBO</td>\n",
       "      <td>HumanObservation</td>\n",
       "      <td>1</td>\n",
       "      <td>BFN0017900002LK3</td>\n",
       "      <td>2014-03-08</td>\n",
       "      <td>51.26218</td>\n",
       "      <td>4.49238</td>\n",
       "      <td>WGS84</td>\n",
       "      <td>Muntiacus reevesii</td>\n",
       "      <td>Chinese muntjak</td>\n",
       "      <td>INBO - Muntjak - Losse waarnemingen</td>\n",
       "    </tr>\n",
       "    <tr>\n",
       "      <th>2</th>\n",
       "      <td>INBO:NBN:BFN001790000A4J0</td>\n",
       "      <td>INBO</td>\n",
       "      <td>HumanObservation</td>\n",
       "      <td>0</td>\n",
       "      <td>BFN001790000310S</td>\n",
       "      <td>2015-02-20</td>\n",
       "      <td>51.25701</td>\n",
       "      <td>4.49054</td>\n",
       "      <td>WGS84</td>\n",
       "      <td>Muntiacus reevesii</td>\n",
       "      <td>Chinese muntjak</td>\n",
       "      <td>INBO - Muntjak - Bestrijding</td>\n",
       "    </tr>\n",
       "    <tr>\n",
       "      <th>3</th>\n",
       "      <td>INBO:NBN:BFN0017900009DO8</td>\n",
       "      <td>INBO</td>\n",
       "      <td>HumanObservation</td>\n",
       "      <td>1</td>\n",
       "      <td>BFN0017900002LJZ</td>\n",
       "      <td>2014-05-24</td>\n",
       "      <td>51.27518</td>\n",
       "      <td>4.54044</td>\n",
       "      <td>WGS84</td>\n",
       "      <td>Muntiacus reevesii</td>\n",
       "      <td>Chinese muntjak</td>\n",
       "      <td>INBO - Muntjak - Losse waarnemingen</td>\n",
       "    </tr>\n",
       "    <tr>\n",
       "      <th>4</th>\n",
       "      <td>INBO:NBN:BFN001790000AACF</td>\n",
       "      <td>INBO</td>\n",
       "      <td>HumanObservation</td>\n",
       "      <td>1</td>\n",
       "      <td>BFN00179000032JO</td>\n",
       "      <td>2005-02-28</td>\n",
       "      <td>51.30803</td>\n",
       "      <td>5.95192</td>\n",
       "      <td>WGS84</td>\n",
       "      <td>Muntiacus reevesii</td>\n",
       "      <td>Chinese muntjak</td>\n",
       "      <td>INBO - Muntjak - Losse waarnemingen</td>\n",
       "    </tr>\n",
       "  </tbody>\n",
       "</table>\n",
       "</div>"
      ],
      "text/plain": [
       "                occurrenceID institutionCode     basisOfRecord  \\\n",
       "0  INBO:NBN:BFN001790000AACI            INBO  HumanObservation   \n",
       "1  INBO:NBN:BFN0017900009DOC            INBO  HumanObservation   \n",
       "2  INBO:NBN:BFN001790000A4J0            INBO  HumanObservation   \n",
       "3  INBO:NBN:BFN0017900009DO8            INBO  HumanObservation   \n",
       "4  INBO:NBN:BFN001790000AACF            INBO  HumanObservation   \n",
       "\n",
       "   individualCount           eventID   eventDate  decimalLatitude  \\\n",
       "0                1  BFN00179000032JR  2005-10-31         51.24325   \n",
       "1                1  BFN0017900002LK3  2014-03-08         51.26218   \n",
       "2                0  BFN001790000310S  2015-02-20         51.25701   \n",
       "3                1  BFN0017900002LJZ  2014-05-24         51.27518   \n",
       "4                1  BFN00179000032JO  2005-02-28         51.30803   \n",
       "\n",
       "   decimalLongitude geodeticDatum      scientificName   vernacularName  \\\n",
       "0           4.94202         WGS84  Muntiacus reevesii  Chinese muntjak   \n",
       "1           4.49238         WGS84  Muntiacus reevesii  Chinese muntjak   \n",
       "2           4.49054         WGS84  Muntiacus reevesii  Chinese muntjak   \n",
       "3           4.54044         WGS84  Muntiacus reevesii  Chinese muntjak   \n",
       "4           5.95192         WGS84  Muntiacus reevesii  Chinese muntjak   \n",
       "\n",
       "                   verbatimDatasetName  \n",
       "0  INBO - Muntjak - Losse waarnemingen  \n",
       "1  INBO - Muntjak - Losse waarnemingen  \n",
       "2         INBO - Muntjak - Bestrijding  \n",
       "3  INBO - Muntjak - Losse waarnemingen  \n",
       "4  INBO - Muntjak - Losse waarnemingen  "
      ]
     },
     "execution_count": 107,
     "metadata": {},
     "output_type": "execute_result"
    }
   ],
   "source": [
    "inv_data.head()"
   ]
  },
  {
   "cell_type": "markdown",
   "metadata": {},
   "source": [
    "Conversion to Lambert 72 is supported by the `pyproj` Package as follows. As I want to support future usage of this functionality as well, I'll write my own custom function:"
   ]
  },
  {
   "cell_type": "code",
   "execution_count": 125,
   "metadata": {
    "collapsed": true,
    "run_control": {
     "frozen": false,
     "read_only": false
    }
   },
   "outputs": [],
   "source": [
    "def transform_dfrow_projection(row, x_name, y_name, srs_from, srs_to):\n",
    "    \"\"\"\n",
    "    Converts the x and y coordinates of a given DataFrame row into a Series of the\n",
    "    longitude and latitude.\n",
    "    \"\"\"\n",
    "    from pyproj import transform\n",
    "    return pd.Series(transform(srs_from, srs_to, row[x_name], row[y_name]))"
   ]
  },
  {
   "cell_type": "markdown",
   "metadata": {},
   "source": [
    "For a single row, this looks like:"
   ]
  },
  {
   "cell_type": "code",
   "execution_count": 126,
   "metadata": {
    "run_control": {
     "frozen": false,
     "read_only": false
    }
   },
   "outputs": [
    {
     "data": {
      "text/plain": [
       "0    190031.454149\n",
       "1    214969.768781\n",
       "dtype: float64"
      ]
     },
     "execution_count": 126,
     "metadata": {},
     "output_type": "execute_result"
    }
   ],
   "source": [
    "transform_dfrow_projection(inv_data.loc[0], \"decimalLongitude\", \"decimalLatitude\", \n",
    "                           srs_wgs84, srs_lambert)"
   ]
  },
  {
   "cell_type": "markdown",
   "metadata": {},
   "source": [
    "`Apply`ing this to the entire table:"
   ]
  },
  {
   "cell_type": "code",
   "execution_count": 127,
   "metadata": {
    "collapsed": true,
    "run_control": {
     "frozen": false,
     "read_only": false
    }
   },
   "outputs": [],
   "source": [
    "inv_data[[\"x\", \"y\"]] = inv_data.apply(transform_dfrow_projection, axis=1, \n",
    "                                      args=(\"decimalLongitude\", \"decimalLatitude\", \n",
    "                                            srs_wgs84, srs_lambert))"
   ]
  },
  {
   "cell_type": "markdown",
   "metadata": {},
   "source": [
    "This feels too complicated?!?Understandable ,but let's just once take the effort to compile this into a reusable function..."
   ]
  },
  {
   "cell_type": "code",
   "execution_count": 130,
   "metadata": {
    "collapsed": true,
    "run_control": {
     "frozen": false,
     "read_only": false
    }
   },
   "outputs": [],
   "source": [
    "def add_trf_coordinates(filename, x_name=\"decimalLongitude\", y_name=\"decimalLatitude\", \n",
    "                        srs_from='epsg:4326', srs_to='epsg:31370', \n",
    "                        new_x=\"X\", new_y=\"Y\"):\n",
    "    \"\"\"Add new X/Y columns with transformed SRS to a given Excel dataset with X/Y columns\n",
    "    \n",
    "    Parameters\n",
    "    ----------\n",
    "    filename : str\n",
    "        Path to excel file to read dat from\n",
    "    x_name : str\n",
    "        Column containing the x-coordinates (default decimalLongitude)\n",
    "    y_name : str\n",
    "        Column containing the y-coordinates (default decimalLatitude)  \n",
    "    srs_from: str\n",
    "        epsg:n code for the current SRS of the coordinates\n",
    "    srs_to: str\n",
    "        epsg:n code for the SRS of the added coordinates\n",
    "    new_x: str\n",
    "        name of the added x-coordinate column\n",
    "    new_y: str\n",
    "        name of the added y-coordinate column    \n",
    "    \n",
    "    returns\n",
    "    -------\n",
    "    df with 2 additional columns\n",
    "    \"\"\"\n",
    "    df = pd.read_excel(\"../data/invasive_extract.xlsx\")\n",
    "    srs_from = Proj(init=srs_from)\n",
    "    srs_to = Proj(init=srs_to)\n",
    "    df[[new_x, new_y]] = df.apply(transform_dfrow_projection, axis=1, \n",
    "                                  args=(x_name, y_name, srs_from, srs_to))\n",
    "    return df"
   ]
  },
  {
   "cell_type": "code",
   "execution_count": 134,
   "metadata": {
    "run_control": {
     "frozen": false,
     "read_only": false
    }
   },
   "outputs": [
    {
     "data": {
      "text/html": [
       "<div>\n",
       "<table border=\"1\" class=\"dataframe\">\n",
       "  <thead>\n",
       "    <tr style=\"text-align: right;\">\n",
       "      <th></th>\n",
       "      <th>occurrenceID</th>\n",
       "      <th>institutionCode</th>\n",
       "      <th>basisOfRecord</th>\n",
       "      <th>individualCount</th>\n",
       "      <th>eventID</th>\n",
       "      <th>eventDate</th>\n",
       "      <th>decimalLatitude</th>\n",
       "      <th>decimalLongitude</th>\n",
       "      <th>geodeticDatum</th>\n",
       "      <th>scientificName</th>\n",
       "      <th>vernacularName</th>\n",
       "      <th>verbatimDatasetName</th>\n",
       "      <th>X</th>\n",
       "      <th>Y</th>\n",
       "    </tr>\n",
       "  </thead>\n",
       "  <tbody>\n",
       "    <tr>\n",
       "      <th>0</th>\n",
       "      <td>INBO:NBN:BFN001790000AACI</td>\n",
       "      <td>INBO</td>\n",
       "      <td>HumanObservation</td>\n",
       "      <td>1</td>\n",
       "      <td>BFN00179000032JR</td>\n",
       "      <td>2005-10-31</td>\n",
       "      <td>51.24325</td>\n",
       "      <td>4.94202</td>\n",
       "      <td>WGS84</td>\n",
       "      <td>Muntiacus reevesii</td>\n",
       "      <td>Chinese muntjak</td>\n",
       "      <td>INBO - Muntjak - Losse waarnemingen</td>\n",
       "      <td>190031.454149</td>\n",
       "      <td>214969.768781</td>\n",
       "    </tr>\n",
       "    <tr>\n",
       "      <th>1</th>\n",
       "      <td>INBO:NBN:BFN0017900009DOC</td>\n",
       "      <td>INBO</td>\n",
       "      <td>HumanObservation</td>\n",
       "      <td>1</td>\n",
       "      <td>BFN0017900002LK3</td>\n",
       "      <td>2014-03-08</td>\n",
       "      <td>51.26218</td>\n",
       "      <td>4.49238</td>\n",
       "      <td>WGS84</td>\n",
       "      <td>Muntiacus reevesii</td>\n",
       "      <td>Chinese muntjak</td>\n",
       "      <td>INBO - Muntjak - Losse waarnemingen</td>\n",
       "      <td>158629.195764</td>\n",
       "      <td>216928.200934</td>\n",
       "    </tr>\n",
       "    <tr>\n",
       "      <th>2</th>\n",
       "      <td>INBO:NBN:BFN001790000A4J0</td>\n",
       "      <td>INBO</td>\n",
       "      <td>HumanObservation</td>\n",
       "      <td>0</td>\n",
       "      <td>BFN001790000310S</td>\n",
       "      <td>2015-02-20</td>\n",
       "      <td>51.25701</td>\n",
       "      <td>4.49054</td>\n",
       "      <td>WGS84</td>\n",
       "      <td>Muntiacus reevesii</td>\n",
       "      <td>Chinese muntjak</td>\n",
       "      <td>INBO - Muntjak - Bestrijding</td>\n",
       "      <td>158501.706616</td>\n",
       "      <td>216352.792717</td>\n",
       "    </tr>\n",
       "    <tr>\n",
       "      <th>3</th>\n",
       "      <td>INBO:NBN:BFN0017900009DO8</td>\n",
       "      <td>INBO</td>\n",
       "      <td>HumanObservation</td>\n",
       "      <td>1</td>\n",
       "      <td>BFN0017900002LJZ</td>\n",
       "      <td>2014-05-24</td>\n",
       "      <td>51.27518</td>\n",
       "      <td>4.54044</td>\n",
       "      <td>WGS84</td>\n",
       "      <td>Muntiacus reevesii</td>\n",
       "      <td>Chinese muntjak</td>\n",
       "      <td>INBO - Muntjak - Losse waarnemingen</td>\n",
       "      <td>161980.579626</td>\n",
       "      <td>218381.238124</td>\n",
       "    </tr>\n",
       "    <tr>\n",
       "      <th>4</th>\n",
       "      <td>INBO:NBN:BFN001790000AACF</td>\n",
       "      <td>INBO</td>\n",
       "      <td>HumanObservation</td>\n",
       "      <td>1</td>\n",
       "      <td>BFN00179000032JO</td>\n",
       "      <td>2005-02-28</td>\n",
       "      <td>51.30803</td>\n",
       "      <td>5.95192</td>\n",
       "      <td>WGS84</td>\n",
       "      <td>Muntiacus reevesii</td>\n",
       "      <td>Chinese muntjak</td>\n",
       "      <td>INBO - Muntjak - Losse waarnemingen</td>\n",
       "      <td>260392.782666</td>\n",
       "      <td>223200.057109</td>\n",
       "    </tr>\n",
       "  </tbody>\n",
       "</table>\n",
       "</div>"
      ],
      "text/plain": [
       "                occurrenceID institutionCode     basisOfRecord  \\\n",
       "0  INBO:NBN:BFN001790000AACI            INBO  HumanObservation   \n",
       "1  INBO:NBN:BFN0017900009DOC            INBO  HumanObservation   \n",
       "2  INBO:NBN:BFN001790000A4J0            INBO  HumanObservation   \n",
       "3  INBO:NBN:BFN0017900009DO8            INBO  HumanObservation   \n",
       "4  INBO:NBN:BFN001790000AACF            INBO  HumanObservation   \n",
       "\n",
       "   individualCount           eventID   eventDate  decimalLatitude  \\\n",
       "0                1  BFN00179000032JR  2005-10-31         51.24325   \n",
       "1                1  BFN0017900002LK3  2014-03-08         51.26218   \n",
       "2                0  BFN001790000310S  2015-02-20         51.25701   \n",
       "3                1  BFN0017900002LJZ  2014-05-24         51.27518   \n",
       "4                1  BFN00179000032JO  2005-02-28         51.30803   \n",
       "\n",
       "   decimalLongitude geodeticDatum      scientificName   vernacularName  \\\n",
       "0           4.94202         WGS84  Muntiacus reevesii  Chinese muntjak   \n",
       "1           4.49238         WGS84  Muntiacus reevesii  Chinese muntjak   \n",
       "2           4.49054         WGS84  Muntiacus reevesii  Chinese muntjak   \n",
       "3           4.54044         WGS84  Muntiacus reevesii  Chinese muntjak   \n",
       "4           5.95192         WGS84  Muntiacus reevesii  Chinese muntjak   \n",
       "\n",
       "                   verbatimDatasetName              X              Y  \n",
       "0  INBO - Muntjak - Losse waarnemingen  190031.454149  214969.768781  \n",
       "1  INBO - Muntjak - Losse waarnemingen  158629.195764  216928.200934  \n",
       "2         INBO - Muntjak - Bestrijding  158501.706616  216352.792717  \n",
       "3  INBO - Muntjak - Losse waarnemingen  161980.579626  218381.238124  \n",
       "4  INBO - Muntjak - Losse waarnemingen  260392.782666  223200.057109  "
      ]
     },
     "execution_count": 134,
     "metadata": {},
     "output_type": "execute_result"
    }
   ],
   "source": [
    "df_enriched = add_trf_coordinates(\"../data/invasive_extract.xlsx\")\n",
    "df_enriched.head()"
   ]
  },
  {
   "cell_type": "markdown",
   "metadata": {},
   "source": [
    "**Remark** that GDAL also has a utility [gdalsrsinfo](http://www.gdal.org/gdalsrsinfo.html) to get/check the SRS information of GIS file:"
   ]
  },
  {
   "cell_type": "code",
   "execution_count": 132,
   "metadata": {
    "run_control": {
     "frozen": false,
     "read_only": false
    }
   },
   "outputs": [
    {
     "name": "stdout",
     "output_type": "stream",
     "text": [
      "'+proj=longlat +datum=WGS84 +no_defs '\r\n"
     ]
    }
   ],
   "source": [
    "! gdalsrsinfo -o proj4 ../data/EUgrid10.geojson  #try also wiht -o all"
   ]
  },
  {
   "cell_type": "markdown",
   "metadata": {},
   "source": [
    "Or to execute the transformation of a dataset together with the transformation of the data type:"
   ]
  },
  {
   "cell_type": "code",
   "execution_count": 7,
   "metadata": {
    "collapsed": true,
    "run_control": {
     "frozen": false,
     "read_only": false
    }
   },
   "outputs": [],
   "source": [
    "!ogr2ogr -t_srs \"EPSG:4326\" -f \"GeoJSON\" \"../data/deelbekken.geojson\" \"../data/deelbekkens/Deelbekken.shp\""
   ]
  },
  {
   "cell_type": "markdown",
   "metadata": {},
   "source": [
    "## Geopandas: Pandas + geometries"
   ]
  },
  {
   "cell_type": "markdown",
   "metadata": {},
   "source": [
    "Actually, we got a whole sequence of data types (objects) to end up with GeoDataFrames:\n",
    "* lists/dictionaries -> standard Python library \n",
    "* Numpy arrays -> table of elements (usually numbers), all of the same type, indexed by positive integers\n",
    "* DataFrames -> Labeled Numpy arrays\n",
    "* GeoDataFrames -> DataFrames with geometry and SRS information attached to it"
   ]
  },
  {
   "cell_type": "markdown",
   "metadata": {},
   "source": [
    "Our `df_enriched` is a Pandas DataFrame, so we can convert to a GeoDataFrame by converting the coordinates to a set of POINT geometries:"
   ]
  },
  {
   "cell_type": "code",
   "execution_count": 217,
   "metadata": {
    "collapsed": true,
    "run_control": {
     "frozen": false,
     "read_only": false
    }
   },
   "outputs": [],
   "source": [
    "from shapely.geometry import Point\n",
    "\n",
    "geometry = [Point(xy) for xy in zip(df_enriched[\"X\"], df_enriched[\"Y\"])]\n",
    "crs = {'init': 'epsg:31370'}\n",
    "geo_df = gpd.GeoDataFrame(df_enriched, crs=deelbekkens.crs, geometry=geometry)"
   ]
  },
  {
   "cell_type": "code",
   "execution_count": 197,
   "metadata": {
    "collapsed": true,
    "run_control": {
     "frozen": false,
     "read_only": false
    }
   },
   "outputs": [],
   "source": [
    "import mplleaflet"
   ]
  },
  {
   "cell_type": "code",
   "execution_count": 214,
   "metadata": {
    "run_control": {
     "frozen": false,
     "read_only": false
    }
   },
   "outputs": [
    {
     "data": {
      "text/html": [
       "<iframe src=\"data:text/html;base64,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\" width=\"100%\" height=\"240\"></iframe>"
      ],
      "text/plain": [
       "<IPython.core.display.HTML object>"
      ]
     },
     "execution_count": 214,
     "metadata": {},
     "output_type": "execute_result"
    }
   ],
   "source": [
    "fig, ax = plt.subplots()\n",
    "geo_df.to_crs(epsg=\"4326\").plot(markersize=10, ax=ax) # on the fly conversion to WGS84\n",
    "mplleaflet.display()"
   ]
  },
  {
   "cell_type": "markdown",
   "metadata": {},
   "source": [
    "<div class=\"alert alert-success\">\n",
    "    <b>EXERCISE</b>: \n",
    "<ul>\n",
    "    <li>Add the UIDN and BEKNAAM names from the `deelbekkens` data to the occurrence data `df_enriched` with a **spatial JOIN**\n",
    "</ul>\n",
    "</div>"
   ]
  },
  {
   "cell_type": "code",
   "execution_count": 208,
   "metadata": {
    "clear_cell": true,
    "run_control": {
     "frozen": false,
     "read_only": false
    }
   },
   "outputs": [
    {
     "data": {
      "text/html": [
       "<div>\n",
       "<table border=\"1\" class=\"dataframe\">\n",
       "  <thead>\n",
       "    <tr style=\"text-align: right;\">\n",
       "      <th></th>\n",
       "      <th>occurrenceID</th>\n",
       "      <th>institutionCode</th>\n",
       "      <th>basisOfRecord</th>\n",
       "      <th>individualCount</th>\n",
       "      <th>eventID</th>\n",
       "      <th>eventDate</th>\n",
       "      <th>decimalLatitude</th>\n",
       "      <th>decimalLongitude</th>\n",
       "      <th>geodeticDatum</th>\n",
       "      <th>scientificName</th>\n",
       "      <th>vernacularName</th>\n",
       "      <th>verbatimDatasetName</th>\n",
       "      <th>X</th>\n",
       "      <th>Y</th>\n",
       "      <th>geometry</th>\n",
       "      <th>index_right</th>\n",
       "      <th>BEKNAAM</th>\n",
       "      <th>UIDN</th>\n",
       "    </tr>\n",
       "  </thead>\n",
       "  <tbody>\n",
       "    <tr>\n",
       "      <th>0</th>\n",
       "      <td>INBO:NBN:BFN001790000AACI</td>\n",
       "      <td>INBO</td>\n",
       "      <td>HumanObservation</td>\n",
       "      <td>1</td>\n",
       "      <td>BFN00179000032JR</td>\n",
       "      <td>2005-10-31</td>\n",
       "      <td>51.24325</td>\n",
       "      <td>4.94202</td>\n",
       "      <td>WGS84</td>\n",
       "      <td>Muntiacus reevesii</td>\n",
       "      <td>Chinese muntjak</td>\n",
       "      <td>INBO - Muntjak - Losse waarnemingen</td>\n",
       "      <td>190031.454149</td>\n",
       "      <td>214969.768781</td>\n",
       "      <td>POINT (190031.45414914 214969.7687812252)</td>\n",
       "      <td>92.0</td>\n",
       "      <td>Netebekken</td>\n",
       "      <td>1272.0</td>\n",
       "    </tr>\n",
       "    <tr>\n",
       "      <th>1</th>\n",
       "      <td>INBO:NBN:BFN0017900009DOC</td>\n",
       "      <td>INBO</td>\n",
       "      <td>HumanObservation</td>\n",
       "      <td>1</td>\n",
       "      <td>BFN0017900002LK3</td>\n",
       "      <td>2014-03-08</td>\n",
       "      <td>51.26218</td>\n",
       "      <td>4.49238</td>\n",
       "      <td>WGS84</td>\n",
       "      <td>Muntiacus reevesii</td>\n",
       "      <td>Chinese muntjak</td>\n",
       "      <td>INBO - Muntjak - Losse waarnemingen</td>\n",
       "      <td>158629.195764</td>\n",
       "      <td>216928.200934</td>\n",
       "      <td>POINT (158629.1957644873 216928.2009336753)</td>\n",
       "      <td>47.0</td>\n",
       "      <td>Beneden-Scheldebekken</td>\n",
       "      <td>1188.0</td>\n",
       "    </tr>\n",
       "    <tr>\n",
       "      <th>2</th>\n",
       "      <td>INBO:NBN:BFN001790000A4J0</td>\n",
       "      <td>INBO</td>\n",
       "      <td>HumanObservation</td>\n",
       "      <td>0</td>\n",
       "      <td>BFN001790000310S</td>\n",
       "      <td>2015-02-20</td>\n",
       "      <td>51.25701</td>\n",
       "      <td>4.49054</td>\n",
       "      <td>WGS84</td>\n",
       "      <td>Muntiacus reevesii</td>\n",
       "      <td>Chinese muntjak</td>\n",
       "      <td>INBO - Muntjak - Bestrijding</td>\n",
       "      <td>158501.706616</td>\n",
       "      <td>216352.792717</td>\n",
       "      <td>POINT (158501.7066164484 216352.7927171728)</td>\n",
       "      <td>47.0</td>\n",
       "      <td>Beneden-Scheldebekken</td>\n",
       "      <td>1188.0</td>\n",
       "    </tr>\n",
       "    <tr>\n",
       "      <th>3</th>\n",
       "      <td>INBO:NBN:BFN0017900009DO8</td>\n",
       "      <td>INBO</td>\n",
       "      <td>HumanObservation</td>\n",
       "      <td>1</td>\n",
       "      <td>BFN0017900002LJZ</td>\n",
       "      <td>2014-05-24</td>\n",
       "      <td>51.27518</td>\n",
       "      <td>4.54044</td>\n",
       "      <td>WGS84</td>\n",
       "      <td>Muntiacus reevesii</td>\n",
       "      <td>Chinese muntjak</td>\n",
       "      <td>INBO - Muntjak - Losse waarnemingen</td>\n",
       "      <td>161980.579626</td>\n",
       "      <td>218381.238124</td>\n",
       "      <td>POINT (161980.579625568 218381.2381236907)</td>\n",
       "      <td>96.0</td>\n",
       "      <td>Beneden-Scheldebekken</td>\n",
       "      <td>1276.0</td>\n",
       "    </tr>\n",
       "    <tr>\n",
       "      <th>4</th>\n",
       "      <td>INBO:NBN:BFN001790000AACF</td>\n",
       "      <td>INBO</td>\n",
       "      <td>HumanObservation</td>\n",
       "      <td>1</td>\n",
       "      <td>BFN00179000032JO</td>\n",
       "      <td>2005-02-28</td>\n",
       "      <td>51.30803</td>\n",
       "      <td>5.95192</td>\n",
       "      <td>WGS84</td>\n",
       "      <td>Muntiacus reevesii</td>\n",
       "      <td>Chinese muntjak</td>\n",
       "      <td>INBO - Muntjak - Losse waarnemingen</td>\n",
       "      <td>260392.782666</td>\n",
       "      <td>223200.057109</td>\n",
       "      <td>POINT (260392.7826660981 223200.0571094267)</td>\n",
       "      <td>NaN</td>\n",
       "      <td>NaN</td>\n",
       "      <td>NaN</td>\n",
       "    </tr>\n",
       "    <tr>\n",
       "      <th>5</th>\n",
       "      <td>INBO:NBN:BFN001790000A4JO</td>\n",
       "      <td>INBO</td>\n",
       "      <td>HumanObservation</td>\n",
       "      <td>0</td>\n",
       "      <td>BFN001790000311B</td>\n",
       "      <td>2015-02-24</td>\n",
       "      <td>51.25803</td>\n",
       "      <td>4.49496</td>\n",
       "      <td>WGS84</td>\n",
       "      <td>Muntiacus reevesii</td>\n",
       "      <td>Chinese muntjak</td>\n",
       "      <td>INBO - Muntjak - Bestrijding</td>\n",
       "      <td>158810.077226</td>\n",
       "      <td>216466.792154</td>\n",
       "      <td>POINT (158810.0772255713 216466.7921539275)</td>\n",
       "      <td>47.0</td>\n",
       "      <td>Beneden-Scheldebekken</td>\n",
       "      <td>1188.0</td>\n",
       "    </tr>\n",
       "    <tr>\n",
       "      <th>6</th>\n",
       "      <td>INBO:NBN:BFN001790000A4K8</td>\n",
       "      <td>INBO</td>\n",
       "      <td>HumanObservation</td>\n",
       "      <td>0</td>\n",
       "      <td>BFN001790000311U</td>\n",
       "      <td>2015-02-20</td>\n",
       "      <td>51.26106</td>\n",
       "      <td>4.49580</td>\n",
       "      <td>WGS84</td>\n",
       "      <td>Muntiacus reevesii</td>\n",
       "      <td>Chinese muntjak</td>\n",
       "      <td>INBO - Muntjak - Bestrijding</td>\n",
       "      <td>158868.137210</td>\n",
       "      <td>216803.999066</td>\n",
       "      <td>POINT (158868.1372097688 216803.9990656227)</td>\n",
       "      <td>47.0</td>\n",
       "      <td>Beneden-Scheldebekken</td>\n",
       "      <td>1188.0</td>\n",
       "    </tr>\n",
       "    <tr>\n",
       "      <th>7</th>\n",
       "      <td>INBO:NBN:BFN001790000A51G</td>\n",
       "      <td>INBO</td>\n",
       "      <td>HumanObservation</td>\n",
       "      <td>1</td>\n",
       "      <td>BFN00179000031CR</td>\n",
       "      <td>2016-03-08</td>\n",
       "      <td>51.04185</td>\n",
       "      <td>5.68327</td>\n",
       "      <td>WGS84</td>\n",
       "      <td>Muntiacus reevesii</td>\n",
       "      <td>Chinese muntjak</td>\n",
       "      <td>INBO - Muntjak - Losse waarnemingen</td>\n",
       "      <td>242186.659443</td>\n",
       "      <td>193225.720281</td>\n",
       "      <td>POINT (242186.6594428579 193225.720281112)</td>\n",
       "      <td>28.0</td>\n",
       "      <td>Maasbekken</td>\n",
       "      <td>1123.0</td>\n",
       "    </tr>\n",
       "    <tr>\n",
       "      <th>8</th>\n",
       "      <td>INBO:NBN:BFN001790000A4J3</td>\n",
       "      <td>INBO</td>\n",
       "      <td>HumanObservation</td>\n",
       "      <td>0</td>\n",
       "      <td>BFN001790000310V</td>\n",
       "      <td>2015-02-25</td>\n",
       "      <td>51.25701</td>\n",
       "      <td>4.49054</td>\n",
       "      <td>WGS84</td>\n",
       "      <td>Muntiacus reevesii</td>\n",
       "      <td>Chinese muntjak</td>\n",
       "      <td>INBO - Muntjak - Bestrijding</td>\n",
       "      <td>158501.706616</td>\n",
       "      <td>216352.792717</td>\n",
       "      <td>POINT (158501.7066164484 216352.7927171728)</td>\n",
       "      <td>47.0</td>\n",
       "      <td>Beneden-Scheldebekken</td>\n",
       "      <td>1188.0</td>\n",
       "    </tr>\n",
       "    <tr>\n",
       "      <th>9</th>\n",
       "      <td>INBO:NBN:BFN001790000A4J5</td>\n",
       "      <td>INBO</td>\n",
       "      <td>HumanObservation</td>\n",
       "      <td>1</td>\n",
       "      <td>BFN001790000310X</td>\n",
       "      <td>2015-02-27</td>\n",
       "      <td>51.25701</td>\n",
       "      <td>4.49054</td>\n",
       "      <td>WGS84</td>\n",
       "      <td>Muntiacus reevesii</td>\n",
       "      <td>Chinese muntjak</td>\n",
       "      <td>INBO - Muntjak - Bestrijding</td>\n",
       "      <td>158501.706616</td>\n",
       "      <td>216352.792717</td>\n",
       "      <td>POINT (158501.7066164484 216352.7927171728)</td>\n",
       "      <td>47.0</td>\n",
       "      <td>Beneden-Scheldebekken</td>\n",
       "      <td>1188.0</td>\n",
       "    </tr>\n",
       "    <tr>\n",
       "      <th>10</th>\n",
       "      <td>INBO:NBN:BFN001790000A4K6</td>\n",
       "      <td>INBO</td>\n",
       "      <td>HumanObservation</td>\n",
       "      <td>0</td>\n",
       "      <td>BFN001790000311S</td>\n",
       "      <td>2015-02-19</td>\n",
       "      <td>51.26106</td>\n",
       "      <td>4.49580</td>\n",
       "      <td>WGS84</td>\n",
       "      <td>Muntiacus reevesii</td>\n",
       "      <td>Chinese muntjak</td>\n",
       "      <td>INBO - Muntjak - Bestrijding</td>\n",
       "      <td>158868.137210</td>\n",
       "      <td>216803.999066</td>\n",
       "      <td>POINT (158868.1372097688 216803.9990656227)</td>\n",
       "      <td>47.0</td>\n",
       "      <td>Beneden-Scheldebekken</td>\n",
       "      <td>1188.0</td>\n",
       "    </tr>\n",
       "    <tr>\n",
       "      <th>11</th>\n",
       "      <td>INBO:NBN:BFN001790000A4L5</td>\n",
       "      <td>INBO</td>\n",
       "      <td>HumanObservation</td>\n",
       "      <td>0</td>\n",
       "      <td>BFN001790000312N</td>\n",
       "      <td>2015-02-20</td>\n",
       "      <td>51.25955</td>\n",
       "      <td>4.48938</td>\n",
       "      <td>WGS84</td>\n",
       "      <td>Muntiacus reevesii</td>\n",
       "      <td>Chinese muntjak</td>\n",
       "      <td>INBO - Muntjak - Bestrijding</td>\n",
       "      <td>158420.264133</td>\n",
       "      <td>216635.250473</td>\n",
       "      <td>POINT (158420.2641331981 216635.2504734546)</td>\n",
       "      <td>47.0</td>\n",
       "      <td>Beneden-Scheldebekken</td>\n",
       "      <td>1188.0</td>\n",
       "    </tr>\n",
       "  </tbody>\n",
       "</table>\n",
       "</div>"
      ],
      "text/plain": [
       "                 occurrenceID institutionCode     basisOfRecord  \\\n",
       "0   INBO:NBN:BFN001790000AACI            INBO  HumanObservation   \n",
       "1   INBO:NBN:BFN0017900009DOC            INBO  HumanObservation   \n",
       "2   INBO:NBN:BFN001790000A4J0            INBO  HumanObservation   \n",
       "3   INBO:NBN:BFN0017900009DO8            INBO  HumanObservation   \n",
       "4   INBO:NBN:BFN001790000AACF            INBO  HumanObservation   \n",
       "5   INBO:NBN:BFN001790000A4JO            INBO  HumanObservation   \n",
       "6   INBO:NBN:BFN001790000A4K8            INBO  HumanObservation   \n",
       "7   INBO:NBN:BFN001790000A51G            INBO  HumanObservation   \n",
       "8   INBO:NBN:BFN001790000A4J3            INBO  HumanObservation   \n",
       "9   INBO:NBN:BFN001790000A4J5            INBO  HumanObservation   \n",
       "10  INBO:NBN:BFN001790000A4K6            INBO  HumanObservation   \n",
       "11  INBO:NBN:BFN001790000A4L5            INBO  HumanObservation   \n",
       "\n",
       "    individualCount           eventID   eventDate  decimalLatitude  \\\n",
       "0                 1  BFN00179000032JR  2005-10-31         51.24325   \n",
       "1                 1  BFN0017900002LK3  2014-03-08         51.26218   \n",
       "2                 0  BFN001790000310S  2015-02-20         51.25701   \n",
       "3                 1  BFN0017900002LJZ  2014-05-24         51.27518   \n",
       "4                 1  BFN00179000032JO  2005-02-28         51.30803   \n",
       "5                 0  BFN001790000311B  2015-02-24         51.25803   \n",
       "6                 0  BFN001790000311U  2015-02-20         51.26106   \n",
       "7                 1  BFN00179000031CR  2016-03-08         51.04185   \n",
       "8                 0  BFN001790000310V  2015-02-25         51.25701   \n",
       "9                 1  BFN001790000310X  2015-02-27         51.25701   \n",
       "10                0  BFN001790000311S  2015-02-19         51.26106   \n",
       "11                0  BFN001790000312N  2015-02-20         51.25955   \n",
       "\n",
       "    decimalLongitude geodeticDatum      scientificName   vernacularName  \\\n",
       "0            4.94202         WGS84  Muntiacus reevesii  Chinese muntjak   \n",
       "1            4.49238         WGS84  Muntiacus reevesii  Chinese muntjak   \n",
       "2            4.49054         WGS84  Muntiacus reevesii  Chinese muntjak   \n",
       "3            4.54044         WGS84  Muntiacus reevesii  Chinese muntjak   \n",
       "4            5.95192         WGS84  Muntiacus reevesii  Chinese muntjak   \n",
       "5            4.49496         WGS84  Muntiacus reevesii  Chinese muntjak   \n",
       "6            4.49580         WGS84  Muntiacus reevesii  Chinese muntjak   \n",
       "7            5.68327         WGS84  Muntiacus reevesii  Chinese muntjak   \n",
       "8            4.49054         WGS84  Muntiacus reevesii  Chinese muntjak   \n",
       "9            4.49054         WGS84  Muntiacus reevesii  Chinese muntjak   \n",
       "10           4.49580         WGS84  Muntiacus reevesii  Chinese muntjak   \n",
       "11           4.48938         WGS84  Muntiacus reevesii  Chinese muntjak   \n",
       "\n",
       "                    verbatimDatasetName              X              Y  \\\n",
       "0   INBO - Muntjak - Losse waarnemingen  190031.454149  214969.768781   \n",
       "1   INBO - Muntjak - Losse waarnemingen  158629.195764  216928.200934   \n",
       "2          INBO - Muntjak - Bestrijding  158501.706616  216352.792717   \n",
       "3   INBO - Muntjak - Losse waarnemingen  161980.579626  218381.238124   \n",
       "4   INBO - Muntjak - Losse waarnemingen  260392.782666  223200.057109   \n",
       "5          INBO - Muntjak - Bestrijding  158810.077226  216466.792154   \n",
       "6          INBO - Muntjak - Bestrijding  158868.137210  216803.999066   \n",
       "7   INBO - Muntjak - Losse waarnemingen  242186.659443  193225.720281   \n",
       "8          INBO - Muntjak - Bestrijding  158501.706616  216352.792717   \n",
       "9          INBO - Muntjak - Bestrijding  158501.706616  216352.792717   \n",
       "10         INBO - Muntjak - Bestrijding  158868.137210  216803.999066   \n",
       "11         INBO - Muntjak - Bestrijding  158420.264133  216635.250473   \n",
       "\n",
       "                                       geometry  index_right  \\\n",
       "0     POINT (190031.45414914 214969.7687812252)         92.0   \n",
       "1   POINT (158629.1957644873 216928.2009336753)         47.0   \n",
       "2   POINT (158501.7066164484 216352.7927171728)         47.0   \n",
       "3    POINT (161980.579625568 218381.2381236907)         96.0   \n",
       "4   POINT (260392.7826660981 223200.0571094267)          NaN   \n",
       "5   POINT (158810.0772255713 216466.7921539275)         47.0   \n",
       "6   POINT (158868.1372097688 216803.9990656227)         47.0   \n",
       "7    POINT (242186.6594428579 193225.720281112)         28.0   \n",
       "8   POINT (158501.7066164484 216352.7927171728)         47.0   \n",
       "9   POINT (158501.7066164484 216352.7927171728)         47.0   \n",
       "10  POINT (158868.1372097688 216803.9990656227)         47.0   \n",
       "11  POINT (158420.2641331981 216635.2504734546)         47.0   \n",
       "\n",
       "                  BEKNAAM    UIDN  \n",
       "0              Netebekken  1272.0  \n",
       "1   Beneden-Scheldebekken  1188.0  \n",
       "2   Beneden-Scheldebekken  1188.0  \n",
       "3   Beneden-Scheldebekken  1276.0  \n",
       "4                     NaN     NaN  \n",
       "5   Beneden-Scheldebekken  1188.0  \n",
       "6   Beneden-Scheldebekken  1188.0  \n",
       "7              Maasbekken  1123.0  \n",
       "8   Beneden-Scheldebekken  1188.0  \n",
       "9   Beneden-Scheldebekken  1188.0  \n",
       "10  Beneden-Scheldebekken  1188.0  \n",
       "11  Beneden-Scheldebekken  1188.0  "
      ]
     },
     "execution_count": 208,
     "metadata": {},
     "output_type": "execute_result"
    }
   ],
   "source": [
    "gpd.sjoin(geo_df, deelbekkens[[\"BEKNAAM\", \"UIDN\", \"geometry\"]], how='left', op=\"within\")"
   ]
  },
  {
   "cell_type": "markdown",
   "metadata": {},
   "source": [
    "<div class=\"alert alert-success\">\n",
    "    <b>EXERCISE</b>: \n",
    "<ul>\n",
    "    <li>Plot the `geo_df` together with a buffered version of 500m of each of the individual points, use mplleaflet to make the plot interactive\n",
    "</ul>\n",
    "</div>"
   ]
  },
  {
   "cell_type": "code",
   "execution_count": 215,
   "metadata": {
    "clear_cell": true,
    "run_control": {
     "frozen": false,
     "read_only": false
    }
   },
   "outputs": [
    {
     "data": {
      "text/html": [
       "<iframe src=\"data:text/html;base64,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\" width=\"100%\" height=\"240\"></iframe>"
      ],
      "text/plain": [
       "<IPython.core.display.HTML object>"
      ]
     },
     "execution_count": 215,
     "metadata": {},
     "output_type": "execute_result"
    }
   ],
   "source": [
    "fig, ax = plt.subplots()\n",
    "geo_df.to_crs(epsg=\"4326\").plot(markersize=10, ax=ax) # on the fly conversion to WGS84\n",
    "geo_df.buffer(500).to_crs(epsg=\"4326\").plot(ax=ax) # on the fly conversion to WGS84\n",
    "mplleaflet.display()"
   ]
  },
  {
   "cell_type": "markdown",
   "metadata": {},
   "source": [
    "For those interested, also check the following example from Joris Vandenbossche, explaining how to derive the distance to the nearest green area for all adresses in the centre of Antwerp:\n",
    "* https://gist.github.com/jorisvandenbossche/7b30ed43366a85af8626"
   ]
  }
 ],
 "metadata": {
  "kernelspec": {
   "display_name": "Python 3",
   "language": "python",
   "name": "python3"
  },
  "language_info": {
   "codemirror_mode": {
    "name": "ipython",
    "version": 3
   },
   "file_extension": ".py",
   "mimetype": "text/x-python",
   "name": "python",
   "nbconvert_exporter": "python",
   "pygments_lexer": "ipython3",
   "version": "3.5.3"
  },
  "nav_menu": {},
  "toc": {
   "navigate_menu": true,
   "number_sections": true,
   "sideBar": true,
   "threshold": 6,
   "toc_cell": false,
   "toc_section_display": "block",
   "toc_window_display": true
  },
  "toc_position": {
   "height": "863px",
   "left": "0px",
   "right": "1663px",
   "top": "106px",
   "width": "212px"
  }
 },
 "nbformat": 4,
 "nbformat_minor": 2
}
