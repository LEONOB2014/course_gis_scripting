{
 "cells": [
  {
   "cell_type": "code",
   "execution_count": 9,
   "metadata": {
    "collapsed": true,
    "run_control": {
     "frozen": false,
     "read_only": false
    }
   },
   "outputs": [],
   "source": [
    "import ogr\n",
    "import subprocess\n",
    "\n",
    "import geopandas as gpd"
   ]
  },
  {
   "cell_type": "code",
   "execution_count": null,
   "metadata": {
    "collapsed": true
   },
   "outputs": [],
   "source": [
    "\n"
   ]
  },
  {
   "cell_type": "markdown",
   "metadata": {},
   "source": [
    "Reproject a shape file"
   ]
  },
  {
   "cell_type": "code",
   "execution_count": 22,
   "metadata": {},
   "outputs": [],
   "source": [
    "!ogr2ogr ../scratch/deelbekkens_wgs84 -t_srs \"EPSG:4326\" ../data/deelbekkens/Deelbekken.shp"
   ]
  },
  {
   "cell_type": "code",
   "execution_count": null,
   "metadata": {
    "collapsed": true
   },
   "outputs": [],
   "source": []
  },
  {
   "cell_type": "code",
   "execution_count": null,
   "metadata": {
    "collapsed": true
   },
   "outputs": [],
   "source": [
    "# TODO: add creation of subcat met geopandas!"
   ]
  },
  {
   "cell_type": "markdown",
   "metadata": {},
   "source": [
    "Single clip"
   ]
  },
  {
   "cell_type": "markdown",
   "metadata": {},
   "source": [
    "voorbeeld ahv -> http://www.gdal.org/gdalwarp.html"
   ]
  },
  {
   "cell_type": "markdown",
   "metadata": {},
   "source": [
    "**DOEL**: 1 deelbekken van de nete uitsnijden uit de tif:"
   ]
  },
  {
   "cell_type": "code",
   "execution_count": 7,
   "metadata": {
    "run_control": {
     "frozen": false,
     "read_only": false
    }
   },
   "outputs": [
    {
     "data": {
      "text/plain": [
       "0"
      ]
     },
     "execution_count": 7,
     "metadata": {},
     "output_type": "execute_result"
    }
   ],
   "source": [
    "import subprocess\n",
    "\n",
    "inraster = '../scratch/NE1_50M_SR/NE1_50M_SR.tif'\n",
    "outraster = inraster.replace('.tif', '{}.tif'.format(\"_out\"))    \n",
    "inshape = \"../scratch/subcat.shp\"\n",
    "subprocess.call(['gdalwarp', inraster, outraster, '-cutline', inshape, \n",
    "                     '-crop_to_cutline', '-overwrite'])"
   ]
  },
  {
   "cell_type": "code",
   "execution_count": null,
   "metadata": {
    "collapsed": true,
    "run_control": {
     "frozen": false,
     "read_only": false
    }
   },
   "outputs": [],
   "source": []
  },
  {
   "cell_type": "markdown",
   "metadata": {},
   "source": [
    "**DOEL**: provincie op naam opgeven en die uitsnijden"
   ]
  },
  {
   "cell_type": "code",
   "execution_count": 10,
   "metadata": {
    "run_control": {
     "frozen": false,
     "read_only": false
    }
   },
   "outputs": [
    {
     "data": {
      "text/html": [
       "<div>\n",
       "<table border=\"1\" class=\"dataframe\">\n",
       "  <thead>\n",
       "    <tr style=\"text-align: right;\">\n",
       "      <th></th>\n",
       "      <th>GEWEST</th>\n",
       "      <th>HECTARES</th>\n",
       "      <th>Naam</th>\n",
       "      <th>OBJECTID</th>\n",
       "      <th>PROVINCIE</th>\n",
       "      <th>Shape_Area</th>\n",
       "      <th>Shape_Leng</th>\n",
       "      <th>geometry</th>\n",
       "    </tr>\n",
       "  </thead>\n",
       "  <tbody>\n",
       "    <tr>\n",
       "      <th>0</th>\n",
       "      <td>Waals</td>\n",
       "      <td>445977.11</td>\n",
       "      <td>Luxemburg</td>\n",
       "      <td>1</td>\n",
       "      <td>LUXEMBURG</td>\n",
       "      <td>4.459771e+09</td>\n",
       "      <td>526369.525162</td>\n",
       "      <td>POLYGON ((268274.9058406549 98186.10143288126,...</td>\n",
       "    </tr>\n",
       "    <tr>\n",
       "      <th>1</th>\n",
       "      <td>Waals</td>\n",
       "      <td>367595.26</td>\n",
       "      <td>Namen</td>\n",
       "      <td>2</td>\n",
       "      <td>NAMEN</td>\n",
       "      <td>3.675953e+09</td>\n",
       "      <td>549687.828645</td>\n",
       "      <td>POLYGON ((192630.9060262059 148439.2967436832,...</td>\n",
       "    </tr>\n",
       "    <tr>\n",
       "      <th>2</th>\n",
       "      <td>Waals</td>\n",
       "      <td>109697.28</td>\n",
       "      <td>Waals-Brabant</td>\n",
       "      <td>3</td>\n",
       "      <td>WAALS-BRABANT</td>\n",
       "      <td>1.096973e+09</td>\n",
       "      <td>282779.214685</td>\n",
       "      <td>POLYGON ((180156.0157745878 165085.0936231858,...</td>\n",
       "    </tr>\n",
       "    <tr>\n",
       "      <th>3</th>\n",
       "      <td>Waals</td>\n",
       "      <td>381311.70</td>\n",
       "      <td>Henegouwen</td>\n",
       "      <td>4</td>\n",
       "      <td>HENEGOUWEN</td>\n",
       "      <td>3.813117e+09</td>\n",
       "      <td>661468.239273</td>\n",
       "      <td>(POLYGON ((54813.49533785344 163427.0036376416...</td>\n",
       "    </tr>\n",
       "    <tr>\n",
       "      <th>4</th>\n",
       "      <td>Waals</td>\n",
       "      <td>385673.69</td>\n",
       "      <td>Luik</td>\n",
       "      <td>5</td>\n",
       "      <td>LUIK</td>\n",
       "      <td>3.856737e+09</td>\n",
       "      <td>516619.459484</td>\n",
       "      <td>POLYGON ((242820.1453689483 161318.1724036776,...</td>\n",
       "    </tr>\n",
       "    <tr>\n",
       "      <th>5</th>\n",
       "      <td>Vlaams</td>\n",
       "      <td>287618.61</td>\n",
       "      <td>Antwerpen</td>\n",
       "      <td>6</td>\n",
       "      <td>ANTWERPEN</td>\n",
       "      <td>2.876186e+09</td>\n",
       "      <td>409253.016619</td>\n",
       "      <td>(POLYGON ((189455.0002312482 233439.9997988463...</td>\n",
       "    </tr>\n",
       "    <tr>\n",
       "      <th>6</th>\n",
       "      <td>Vlaams</td>\n",
       "      <td>242796.85</td>\n",
       "      <td>Limburg</td>\n",
       "      <td>7</td>\n",
       "      <td>LIMBURG</td>\n",
       "      <td>2.427968e+09</td>\n",
       "      <td>396268.042066</td>\n",
       "      <td>(POLYGON ((249425.7968311003 164017.6248221917...</td>\n",
       "    </tr>\n",
       "    <tr>\n",
       "      <th>7</th>\n",
       "      <td>Vlaams</td>\n",
       "      <td>300793.98</td>\n",
       "      <td>Oost-Vlaanderen</td>\n",
       "      <td>8</td>\n",
       "      <td>OOST-VLAANDEREN</td>\n",
       "      <td>3.007940e+09</td>\n",
       "      <td>404086.523154</td>\n",
       "      <td>POLYGON ((142473.9375314937 226522.1563364035,...</td>\n",
       "    </tr>\n",
       "    <tr>\n",
       "      <th>8</th>\n",
       "      <td>Vlaams</td>\n",
       "      <td>211881.34</td>\n",
       "      <td>Vlaams-Brabant</td>\n",
       "      <td>9</td>\n",
       "      <td>VLAAMS-BRABANT</td>\n",
       "      <td>2.118813e+09</td>\n",
       "      <td>506036.167038</td>\n",
       "      <td>POLYGON ((200518.4063215517 193496.9689776464,...</td>\n",
       "    </tr>\n",
       "    <tr>\n",
       "      <th>9</th>\n",
       "      <td>Vlaams</td>\n",
       "      <td>319337.75</td>\n",
       "      <td>West-Vlaanderen</td>\n",
       "      <td>10</td>\n",
       "      <td>WEST-VLAANDEREN</td>\n",
       "      <td>3.193377e+09</td>\n",
       "      <td>355831.654428</td>\n",
       "      <td>POLYGON ((80027.18726533552 229580.6088192519,...</td>\n",
       "    </tr>\n",
       "    <tr>\n",
       "      <th>10</th>\n",
       "      <td>Brussels</td>\n",
       "      <td>16250.81</td>\n",
       "      <td>Brussels Hoofdstedelijk Gewest</td>\n",
       "      <td>11</td>\n",
       "      <td>BRUSSEL</td>\n",
       "      <td>1.625081e+08</td>\n",
       "      <td>72048.561993</td>\n",
       "      <td>POLYGON ((153340.4217656138 177376.2188826328,...</td>\n",
       "    </tr>\n",
       "  </tbody>\n",
       "</table>\n",
       "</div>"
      ],
      "text/plain": [
       "      GEWEST   HECTARES                            Naam  OBJECTID  \\\n",
       "0      Waals  445977.11                       Luxemburg         1   \n",
       "1      Waals  367595.26                           Namen         2   \n",
       "2      Waals  109697.28                   Waals-Brabant         3   \n",
       "3      Waals  381311.70                      Henegouwen         4   \n",
       "4      Waals  385673.69                            Luik         5   \n",
       "5     Vlaams  287618.61                       Antwerpen         6   \n",
       "6     Vlaams  242796.85                         Limburg         7   \n",
       "7     Vlaams  300793.98                 Oost-Vlaanderen         8   \n",
       "8     Vlaams  211881.34                  Vlaams-Brabant         9   \n",
       "9     Vlaams  319337.75                 West-Vlaanderen        10   \n",
       "10  Brussels   16250.81  Brussels Hoofdstedelijk Gewest        11   \n",
       "\n",
       "          PROVINCIE    Shape_Area     Shape_Leng  \\\n",
       "0         LUXEMBURG  4.459771e+09  526369.525162   \n",
       "1             NAMEN  3.675953e+09  549687.828645   \n",
       "2     WAALS-BRABANT  1.096973e+09  282779.214685   \n",
       "3        HENEGOUWEN  3.813117e+09  661468.239273   \n",
       "4              LUIK  3.856737e+09  516619.459484   \n",
       "5         ANTWERPEN  2.876186e+09  409253.016619   \n",
       "6           LIMBURG  2.427968e+09  396268.042066   \n",
       "7   OOST-VLAANDEREN  3.007940e+09  404086.523154   \n",
       "8    VLAAMS-BRABANT  2.118813e+09  506036.167038   \n",
       "9   WEST-VLAANDEREN  3.193377e+09  355831.654428   \n",
       "10          BRUSSEL  1.625081e+08   72048.561993   \n",
       "\n",
       "                                             geometry  \n",
       "0   POLYGON ((268274.9058406549 98186.10143288126,...  \n",
       "1   POLYGON ((192630.9060262059 148439.2967436832,...  \n",
       "2   POLYGON ((180156.0157745878 165085.0936231858,...  \n",
       "3   (POLYGON ((54813.49533785344 163427.0036376416...  \n",
       "4   POLYGON ((242820.1453689483 161318.1724036776,...  \n",
       "5   (POLYGON ((189455.0002312482 233439.9997988463...  \n",
       "6   (POLYGON ((249425.7968311003 164017.6248221917...  \n",
       "7   POLYGON ((142473.9375314937 226522.1563364035,...  \n",
       "8   POLYGON ((200518.4063215517 193496.9689776464,...  \n",
       "9   POLYGON ((80027.18726533552 229580.6088192519,...  \n",
       "10  POLYGON ((153340.4217656138 177376.2188826328,...  "
      ]
     },
     "execution_count": 10,
     "metadata": {},
     "output_type": "execute_result"
    }
   ],
   "source": [
    "provincies = gpd.read_file(\"../scratch/provinciebel.shp\")\n",
    "provincies"
   ]
  },
  {
   "cell_type": "code",
   "execution_count": 11,
   "metadata": {
    "run_control": {
     "frozen": false,
     "read_only": false
    }
   },
   "outputs": [
    {
     "data": {
      "text/plain": [
       "0"
      ]
     },
     "execution_count": 11,
     "metadata": {},
     "output_type": "execute_result"
    }
   ],
   "source": [
    "inraster = '../scratch/NE1_50M_SR/NE1_50M_SR.tif'\n",
    "outraster = inraster.replace('.tif', '{}.tif'.format(\"_OostVlaanderen\"))    \n",
    "inshape = \"../scratch/provinciebel.shp\"\n",
    "subprocess.call(['gdalwarp', inraster, outraster, '-cutline', inshape, \n",
    "                 '-cwhere', \"PROVINCIE='OOST-VLAANDEREN'\", \n",
    "                 '-crop_to_cutline', \n",
    "                 '-overwrite'])"
   ]
  },
  {
   "cell_type": "markdown",
   "metadata": {},
   "source": [
    "Maar ik wil dat liever automatisch doen voor alle individuele provincies en voor elk van die een geotiff maken:"
   ]
  },
  {
   "cell_type": "code",
   "execution_count": 12,
   "metadata": {
    "run_control": {
     "frozen": false,
     "read_only": false
    }
   },
   "outputs": [
    {
     "name": "stdout",
     "output_type": "stream",
     "text": [
      "LUXEMBURG\n",
      "NAMEN\n",
      "WAALS-BRABANT\n",
      "HENEGOUWEN\n",
      "LUIK\n",
      "ANTWERPEN\n",
      "LIMBURG\n",
      "OOST-VLAANDEREN\n",
      "VLAAMS-BRABANT\n",
      "WEST-VLAANDEREN\n",
      "BRUSSEL\n"
     ]
    }
   ],
   "source": [
    "import ogr\n",
    "\n",
    "inraster = '../scratch/NE1_50M_SR/NE1_50M_SR.tif'\n",
    "outraster = inraster.replace('.tif', '{}.tif'.format(\"_OostVlaanderen\"))    \n",
    "inshape = \"../scratch/provinciebel.shp\"\n",
    "\n",
    "ds = ogr.Open(inshape)\n",
    "lyr = ds.GetLayer(0)\n",
    "\n",
    "lyr.ResetReading()\n",
    "ft = lyr.GetNextFeature()\n",
    "\n",
    "while ft:\n",
    "\n",
    "    province_name = ft.GetFieldAsString('PROVINCIE')\n",
    "    print(province_name)\n",
    "\n",
    "    outraster = inraster.replace('.tif', '_%s.tif' % province_name.replace('-', '_'))    \n",
    "    subprocess.call(['gdalwarp', inraster, outraster, '-cutline', inshape, \n",
    "                     '-crop_to_cutline', '-cwhere', \"PROVINCIE='%s'\" %province_name])\n",
    "\n",
    "    ft = lyr.GetNextFeature()\n",
    "\n",
    "ds = None"
   ]
  },
  {
   "cell_type": "markdown",
   "metadata": {},
   "source": [
    "To gain from my efforts, a reusable function would be what I could really use"
   ]
  },
  {
   "cell_type": "code",
   "execution_count": null,
   "metadata": {
    "collapsed": true,
    "run_control": {
     "frozen": false,
     "read_only": false
    }
   },
   "outputs": [],
   "source": []
  }
 ],
 "metadata": {
  "kernelspec": {
   "display_name": "Python 3",
   "language": "python",
   "name": "python3"
  },
  "language_info": {
   "codemirror_mode": {
    "name": "ipython",
    "version": 3
   },
   "file_extension": ".py",
   "mimetype": "text/x-python",
   "name": "python",
   "nbconvert_exporter": "python",
   "pygments_lexer": "ipython3",
   "version": "3.5.3"
  },
  "nav_menu": {},
  "toc": {
   "navigate_menu": true,
   "number_sections": true,
   "sideBar": true,
   "threshold": 6,
   "toc_cell": false,
   "toc_section_display": "block",
   "toc_window_display": true
  }
 },
 "nbformat": 4,
 "nbformat_minor": 2
}
