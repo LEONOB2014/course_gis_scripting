{
 "cells": [
  {
   "cell_type": "code",
   "execution_count": null,
   "metadata": {
    "collapsed": true,
    "run_control": {
     "frozen": false,
     "read_only": false
    }
   },
   "outputs": [],
   "source": [
    "import numpy as np\n",
    "import matplotlib.pyplot as plt\n",
    "%matplotlib inline"
   ]
  },
  {
   "cell_type": "markdown",
   "metadata": {},
   "source": [
    "# Gdal provide many functionalities, but..."
   ]
  },
  {
   "cell_type": "markdown",
   "metadata": {},
   "source": [
    "For a number of examples: https://pcjericks.github.io/py-gdalogr-cookbook/raster_layers.html\n",
    "(indeed, not the *sweetest* implementations)"
   ]
  },
  {
   "cell_type": "markdown",
   "metadata": {},
   "source": [
    "But it does not align well with `rasterio`..."
   ]
  },
  {
   "cell_type": "markdown",
   "metadata": {},
   "source": [
    "<div class=\"alert alert-danger\">\n",
    "    <b>REMEMBER</b>: \n",
    "    <ul>\n",
    "        <li> Do NOT combine `import gdal` and `import rasterio` in the same script/notebook/...\n",
    "        <li> calling GDAL with a subprocess from the command line is not an issue\n",
    "    </ul>\n",
    "</div>"
   ]
  },
  {
   "cell_type": "markdown",
   "metadata": {},
   "source": [
    "Hence, we do not include the gdal example here..."
   ]
  },
  {
   "cell_type": "markdown",
   "metadata": {},
   "source": [
    "# Numpy (if you can...)"
   ]
  },
  {
   "cell_type": "markdown",
   "metadata": {},
   "source": [
    "Numpy is a great resource, as long as there are nog special spatial statistics involved."
   ]
  },
  {
   "cell_type": "markdown",
   "metadata": {},
   "source": [
    "**TODO** -> Niche voorbeeld..."
   ]
  },
  {
   "cell_type": "markdown",
   "metadata": {},
   "source": [
    "Furthermore, lots of useful functions are available for specific actions. For example:"
   ]
  },
  {
   "cell_type": "code",
   "execution_count": null,
   "metadata": {
    "collapsed": true,
    "run_control": {
     "frozen": false,
     "read_only": false
    }
   },
   "outputs": [],
   "source": [
    "bodem = np.load(\"../data/nete_bodem.npy\") # Te vervangen door ECHT dem..."
   ]
  },
  {
   "cell_type": "code",
   "execution_count": null,
   "metadata": {
    "collapsed": true,
    "run_control": {
     "frozen": false,
     "read_only": false
    }
   },
   "outputs": [],
   "source": [
    "def shaded_relief(elev, altitude=np.pi/4.,\n",
    "                  azimuth=np.pi/2.):\n",
    "    \"\"\"\n",
    "    Make a shaded relief version of a numpy array.\n",
    "    Parameters\n",
    "    ----------\n",
    "    dem : 2D numpy array\n",
    "    altitude : float\n",
    "        Altitude of sun (in radians)\n",
    "    azimuth : float\n",
    "        Direction of sun (in radians)\n",
    "    \"\"\"\n",
    "    x, y = np.gradient(elev)\n",
    "\n",
    "    slope = np.pi/2. - np.arctan(np.sqrt(x*x + y*y))\n",
    "    aspect = np.arctan2(-x, y)\n",
    "\n",
    "    shaded = np.sin(altitude) * np.sin(slope)\\\n",
    "        + np.cos(altitude) * np.cos(slope)\\\n",
    "        * np.cos((azimuth - np.pi/2.) - aspect)\n",
    "    return shaded"
   ]
  },
  {
   "cell_type": "code",
   "execution_count": null,
   "metadata": {
    "run_control": {
     "frozen": false,
     "read_only": false
    }
   },
   "outputs": [],
   "source": [
    "plt.imshow(shaded_relief(bodem))"
   ]
  },
  {
   "cell_type": "markdown",
   "metadata": {},
   "source": [
    "# rasterio is the pythonic implementation specific for rasters"
   ]
  },
  {
   "cell_type": "markdown",
   "metadata": {},
   "source": [
    "## Reading raster files"
   ]
  },
  {
   "cell_type": "code",
   "execution_count": null,
   "metadata": {
    "collapsed": true,
    "run_control": {
     "frozen": false,
     "read_only": false
    }
   },
   "outputs": [],
   "source": [
    "import rasterio"
   ]
  },
  {
   "cell_type": "code",
   "execution_count": null,
   "metadata": {
    "collapsed": true,
    "run_control": {
     "frozen": false,
     "read_only": false
    }
   },
   "outputs": [],
   "source": [
    "with rasterio.open(\"../scratch/NE1_50M_SR/NE1_50M_SR_OOST_VLAANDEREN.tif\") as oostvl:\n",
    "    img = oostvl.read(1)"
   ]
  },
  {
   "cell_type": "code",
   "execution_count": null,
   "metadata": {
    "run_control": {
     "frozen": false,
     "read_only": false
    }
   },
   "outputs": [],
   "source": [
    "plt.imshow(img)"
   ]
  },
  {
   "cell_type": "markdown",
   "metadata": {},
   "source": [
    "Again, it easily interacts with numpy arrays:"
   ]
  },
  {
   "cell_type": "code",
   "execution_count": null,
   "metadata": {
    "run_control": {
     "frozen": false,
     "read_only": false
    }
   },
   "outputs": [],
   "source": [
    "type(img)"
   ]
  },
  {
   "cell_type": "markdown",
   "metadata": {},
   "source": [
    "## Example: rasterize vector feature"
   ]
  },
  {
   "cell_type": "markdown",
   "metadata": {},
   "source": [
    "(Remark, you have to [download the example data](https://github.com/kjordahl/SciPy-Tutorial-2015/blob/master/download_data.py) first and put it in the scratch folder to use this script)"
   ]
  },
  {
   "cell_type": "code",
   "execution_count": null,
   "metadata": {
    "run_control": {
     "frozen": false,
     "read_only": false
    }
   },
   "outputs": [],
   "source": [
    "import rasterio\n",
    "from rasterio.features import rasterize\n",
    "from geopandas import read_file\n",
    "import os\n",
    "import matplotlib.pyplot as plt\n",
    "\n",
    "data_dir = os.path.join('..', 'scratch', 'data_scipy2015')\n",
    "\n",
    "raster_file = os.path.join(data_dir, 'manhattan.tif')\n",
    "vector_file = os.path.join(data_dir, 'nybb_15b', 'nybb.shp')\n",
    "\n",
    "df = read_file(vector_file)\n",
    "plt.figure(1)\n",
    "\n",
    "\n",
    "def show_img(img, bounds):\n",
    "    left, bottom, right, top = bounds\n",
    "    plt.imshow(img, cmap='gray', extent=(left, right, bottom, top))\n",
    "    locs, labels = plt.xticks()\n",
    "    plt.setp(labels, rotation=90)\n",
    "\n",
    "with rasterio.open(raster_file) as src:\n",
    "    # extract Manhattan, transform coordinates and geometry only\n",
    "    poly = df.to_crs(src.crs).ix[3]['geometry']\n",
    "    coords = [p.exterior.coords.xy for p in poly]\n",
    "    ax = plt.subplot(1, 2, 1)\n",
    "    img = src.read(1)\n",
    "    show_img(src.read(1), src.bounds)\n",
    "    for x, y in coords:\n",
    "        plt.plot(x, y, color='red', linewidth=2)\n",
    "    ax.set_xlim(src.bounds.left, src.bounds.right)\n",
    "    ax.set_ylim(src.bounds.bottom, src.bounds.top)\n",
    "    plt.subplot(1, 2, 2)\n",
    "    mask = rasterize([poly], transform=src.transform, out_shape=src.shape)\n",
    "    # If we had opened the file with mode 'r!', we could write the mask\n",
    "    # src.write_mask(mask)\n",
    "    img[mask==0] = 255\n",
    "    show_img(img, src.bounds)\n",
    "\n",
    "plt.savefig('rasterize_mask.png', dpi=300)\n",
    "plt.figure(2)\n",
    "show_img(mask, src.bounds)\n",
    "plt.savefig('mask.png', dpi=300)"
   ]
  },
  {
   "cell_type": "markdown",
   "metadata": {},
   "source": [
    "# PCRaster"
   ]
  },
  {
   "cell_type": "markdown",
   "metadata": {},
   "source": [
    "Furthermore, [**PCRAster**](http://pcraster.geo.uu.nl/pcraster/4.1.0/doc/python/pcraster/quickstart.html) could be worthwhile to check out, it provides fast implementations for a set of typical raster calculations! \n",
    "\n",
    "Also PCRAster provides the [interaction with Numpy](http://pcraster.geo.uu.nl/pcraster/4.1.0/doc/python/pcraster/differences.html#converting-to-and-from-numpy-arrays), so you ca easily switch from a numpy array to a native PCRAster object, perform the available functionality and convert the result back to Numpy."
   ]
  },
  {
   "cell_type": "markdown",
   "metadata": {},
   "source": [
    "# Data cubes (netCDF)"
   ]
  },
  {
   "cell_type": "markdown",
   "metadata": {},
   "source": [
    "Once you go to > 2 dimensions, specific Packages are designes to handle these so-called Data-cubes, with a typical focus on meteorology, oceanology or climatology. The following Packages are worthwhile to check:\n",
    "\n",
    "* [Iris](http://scitools.org.uk/iris/)\n",
    "* [xarray](http://xarray.pydata.org/en/stable/)"
   ]
  },
  {
   "cell_type": "markdown",
   "metadata": {},
   "source": [
    "<div class=\"alert alert-info\">\n",
    "    <b>REMEMBER</b>: \n",
    "    <ul>\n",
    "        <li> Do not hesitate to ask some more information if you're dealing with this type of data!\n",
    "    </ul>\n",
    "</div>"
   ]
  }
 ],
 "metadata": {
  "kernelspec": {
   "display_name": "Python 3",
   "language": "python",
   "name": "python3"
  },
  "language_info": {
   "codemirror_mode": {
    "name": "ipython",
    "version": 3
   },
   "file_extension": ".py",
   "mimetype": "text/x-python",
   "name": "python",
   "nbconvert_exporter": "python",
   "pygments_lexer": "ipython3",
   "version": "3.5.3"
  },
  "nav_menu": {},
  "toc": {
   "navigate_menu": true,
   "number_sections": true,
   "sideBar": true,
   "threshold": 6,
   "toc_cell": false,
   "toc_section_display": "block",
   "toc_window_display": false
  }
 },
 "nbformat": 4,
 "nbformat_minor": 2
}
