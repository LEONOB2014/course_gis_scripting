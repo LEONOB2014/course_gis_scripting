{
 "cells": [
  {
   "cell_type": "code",
   "execution_count": null,
   "metadata": {
    "collapsed": true,
    "run_control": {
     "frozen": false,
     "read_only": false
    }
   },
   "outputs": [],
   "source": [
    "import ogr\n",
    "import subprocess\n",
    "\n",
    "import geopandas as gpd"
   ]
  },
  {
   "cell_type": "code",
   "execution_count": null,
   "metadata": {
    "collapsed": true
   },
   "outputs": [],
   "source": [
    "\n"
   ]
  },
  {
   "cell_type": "markdown",
   "metadata": {},
   "source": [
    "Reproject a shape file"
   ]
  },
  {
   "cell_type": "code",
   "execution_count": null,
   "metadata": {},
   "outputs": [],
   "source": [
    "!ogr2ogr ../scratch/deelbekkens_wgs84 -t_srs \"EPSG:4326\" ../data/deelbekkens/Deelbekken.shp"
   ]
  },
  {
   "cell_type": "code",
   "execution_count": null,
   "metadata": {
    "collapsed": true
   },
   "outputs": [],
   "source": []
  },
  {
   "cell_type": "code",
   "execution_count": null,
   "metadata": {
    "collapsed": true
   },
   "outputs": [],
   "source": [
    "# TODO: add creation of subcat met geopandas!"
   ]
  },
  {
   "cell_type": "markdown",
   "metadata": {},
   "source": [
    "Single clip"
   ]
  },
  {
   "cell_type": "markdown",
   "metadata": {},
   "source": [
    "voorbeeld ahv -> http://www.gdal.org/gdalwarp.html"
   ]
  },
  {
   "cell_type": "markdown",
   "metadata": {},
   "source": [
    "**DOEL**: 1 deelbekken van de nete uitsnijden uit de tif:"
   ]
  },
  {
   "cell_type": "code",
   "execution_count": null,
   "metadata": {
    "run_control": {
     "frozen": false,
     "read_only": false
    }
   },
   "outputs": [],
   "source": [
    "import subprocess\n",
    "\n",
    "inraster = '../scratch/NE1_50M_SR/NE1_50M_SR.tif'\n",
    "outraster = inraster.replace('.tif', '{}.tif'.format(\"_out\"))    \n",
    "inshape = \"../scratch/subcat.shp\"\n",
    "subprocess.call(['gdalwarp', inraster, outraster, '-cutline', inshape, \n",
    "                     '-crop_to_cutline', '-overwrite'])"
   ]
  },
  {
   "cell_type": "code",
   "execution_count": null,
   "metadata": {
    "collapsed": true,
    "run_control": {
     "frozen": false,
     "read_only": false
    }
   },
   "outputs": [],
   "source": []
  },
  {
   "cell_type": "markdown",
   "metadata": {},
   "source": [
    "**DOEL**: provincie op naam opgeven en die uitsnijden"
   ]
  },
  {
   "cell_type": "code",
   "execution_count": null,
   "metadata": {
    "run_control": {
     "frozen": false,
     "read_only": false
    }
   },
   "outputs": [],
   "source": [
    "provincies = gpd.read_file(\"../scratch/provinciebel.shp\")\n",
    "provincies"
   ]
  },
  {
   "cell_type": "code",
   "execution_count": null,
   "metadata": {
    "run_control": {
     "frozen": false,
     "read_only": false
    }
   },
   "outputs": [],
   "source": [
    "inraster = '../scratch/NE1_50M_SR/NE1_50M_SR.tif'\n",
    "outraster = inraster.replace('.tif', '{}.tif'.format(\"_OostVlaanderen\"))    \n",
    "inshape = \"../scratch/provinciebel.shp\"\n",
    "subprocess.call(['gdalwarp', inraster, outraster, '-cutline', inshape, \n",
    "                 '-cwhere', \"PROVINCIE='OOST-VLAANDEREN'\", \n",
    "                 '-crop_to_cutline', \n",
    "                 '-overwrite'])"
   ]
  },
  {
   "cell_type": "markdown",
   "metadata": {},
   "source": [
    "Maar ik wil dat liever automatisch doen voor alle individuele provincies en voor elk van die een geotiff maken:"
   ]
  },
  {
   "cell_type": "code",
   "execution_count": null,
   "metadata": {
    "run_control": {
     "frozen": false,
     "read_only": false
    }
   },
   "outputs": [],
   "source": [
    "import ogr\n",
    "\n",
    "inraster = '../scratch/NE1_50M_SR/NE1_50M_SR.tif'\n",
    "outraster = inraster.replace('.tif', '{}.tif'.format(\"_OostVlaanderen\"))    \n",
    "inshape = \"../scratch/provinciebel.shp\"\n",
    "\n",
    "ds = ogr.Open(inshape)\n",
    "lyr = ds.GetLayer(0)\n",
    "\n",
    "lyr.ResetReading()\n",
    "ft = lyr.GetNextFeature()\n",
    "\n",
    "while ft:\n",
    "\n",
    "    province_name = ft.GetFieldAsString('PROVINCIE')\n",
    "    print(province_name)\n",
    "\n",
    "    outraster = inraster.replace('.tif', '_%s.tif' % province_name.replace('-', '_'))    \n",
    "    subprocess.call(['gdalwarp', inraster, outraster, '-cutline', inshape, \n",
    "                     '-crop_to_cutline', '-cwhere', \"PROVINCIE='%s'\" %province_name])\n",
    "\n",
    "    ft = lyr.GetNextFeature()\n",
    "\n",
    "ds = None"
   ]
  },
  {
   "cell_type": "markdown",
   "metadata": {},
   "source": [
    "To gain from my efforts, a reusable function would be what I could really use"
   ]
  },
  {
   "cell_type": "code",
   "execution_count": null,
   "metadata": {
    "collapsed": true,
    "run_control": {
     "frozen": false,
     "read_only": false
    }
   },
   "outputs": [],
   "source": []
  }
 ],
 "metadata": {
  "kernelspec": {
   "display_name": "Python 3",
   "language": "python",
   "name": "python3"
  },
  "language_info": {
   "codemirror_mode": {
    "name": "ipython",
    "version": 3
   },
   "file_extension": ".py",
   "mimetype": "text/x-python",
   "name": "python",
   "nbconvert_exporter": "python",
   "pygments_lexer": "ipython3",
   "version": "3.5.3"
  },
  "nav_menu": {},
  "toc": {
   "navigate_menu": true,
   "number_sections": true,
   "sideBar": true,
   "threshold": 6,
   "toc_cell": false,
   "toc_section_display": "block",
   "toc_window_display": true
  }
 },
 "nbformat": 4,
 "nbformat_minor": 2
}
